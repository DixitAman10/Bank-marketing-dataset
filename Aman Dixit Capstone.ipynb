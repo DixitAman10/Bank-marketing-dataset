{
 "cells": [
  {
   "cell_type": "code",
   "execution_count": 1,
   "metadata": {},
   "outputs": [],
   "source": [
    "## Importing Libraries:-\n",
    "\n",
    "import pandas as pd\n",
    "import numpy as np\n",
    "import matplotlib.pyplot as plt\n",
    "import seaborn as sns"
   ]
  },
  {
   "cell_type": "code",
   "execution_count": 2,
   "metadata": {},
   "outputs": [],
   "source": [
    "## Reading the given Dataset:-\n",
    "\n",
    "df=pd.read_csv('F:\\\\downloads\\\\final exam\\\\slc final exam\\\\bank.csv')"
   ]
  },
  {
   "cell_type": "code",
   "execution_count": 3,
   "metadata": {},
   "outputs": [
    {
     "data": {
      "text/html": [
       "<div>\n",
       "<style scoped>\n",
       "    .dataframe tbody tr th:only-of-type {\n",
       "        vertical-align: middle;\n",
       "    }\n",
       "\n",
       "    .dataframe tbody tr th {\n",
       "        vertical-align: top;\n",
       "    }\n",
       "\n",
       "    .dataframe thead th {\n",
       "        text-align: right;\n",
       "    }\n",
       "</style>\n",
       "<table border=\"1\" class=\"dataframe\">\n",
       "  <thead>\n",
       "    <tr style=\"text-align: right;\">\n",
       "      <th></th>\n",
       "      <th>age</th>\n",
       "      <th>job</th>\n",
       "      <th>marital</th>\n",
       "      <th>education</th>\n",
       "      <th>default</th>\n",
       "      <th>housing</th>\n",
       "      <th>loan</th>\n",
       "      <th>contact</th>\n",
       "      <th>month</th>\n",
       "      <th>day_of_week</th>\n",
       "      <th>...</th>\n",
       "      <th>campaign</th>\n",
       "      <th>pdays</th>\n",
       "      <th>previous</th>\n",
       "      <th>poutcome</th>\n",
       "      <th>emp.var.rate</th>\n",
       "      <th>cons.price.idx</th>\n",
       "      <th>cons.conf.idx</th>\n",
       "      <th>euribor3m</th>\n",
       "      <th>nr.employed</th>\n",
       "      <th>y</th>\n",
       "    </tr>\n",
       "  </thead>\n",
       "  <tbody>\n",
       "    <tr>\n",
       "      <th>0</th>\n",
       "      <td>31</td>\n",
       "      <td>blue-collar</td>\n",
       "      <td>married</td>\n",
       "      <td>basic.6y</td>\n",
       "      <td>unknown</td>\n",
       "      <td>no</td>\n",
       "      <td>no</td>\n",
       "      <td>cellular</td>\n",
       "      <td>jul</td>\n",
       "      <td>mon</td>\n",
       "      <td>...</td>\n",
       "      <td>2</td>\n",
       "      <td>999</td>\n",
       "      <td>0</td>\n",
       "      <td>nonexistent</td>\n",
       "      <td>1.4</td>\n",
       "      <td>93.918</td>\n",
       "      <td>-42.7</td>\n",
       "      <td>4.960</td>\n",
       "      <td>5228.1</td>\n",
       "      <td>no</td>\n",
       "    </tr>\n",
       "    <tr>\n",
       "      <th>1</th>\n",
       "      <td>32</td>\n",
       "      <td>housemaid</td>\n",
       "      <td>single</td>\n",
       "      <td>university.degree</td>\n",
       "      <td>unknown</td>\n",
       "      <td>yes</td>\n",
       "      <td>no</td>\n",
       "      <td>cellular</td>\n",
       "      <td>jul</td>\n",
       "      <td>tue</td>\n",
       "      <td>...</td>\n",
       "      <td>4</td>\n",
       "      <td>999</td>\n",
       "      <td>0</td>\n",
       "      <td>nonexistent</td>\n",
       "      <td>1.4</td>\n",
       "      <td>93.918</td>\n",
       "      <td>-42.7</td>\n",
       "      <td>4.961</td>\n",
       "      <td>5228.1</td>\n",
       "      <td>no</td>\n",
       "    </tr>\n",
       "    <tr>\n",
       "      <th>2</th>\n",
       "      <td>26</td>\n",
       "      <td>admin.</td>\n",
       "      <td>married</td>\n",
       "      <td>high.school</td>\n",
       "      <td>no</td>\n",
       "      <td>yes</td>\n",
       "      <td>no</td>\n",
       "      <td>cellular</td>\n",
       "      <td>apr</td>\n",
       "      <td>mon</td>\n",
       "      <td>...</td>\n",
       "      <td>1</td>\n",
       "      <td>999</td>\n",
       "      <td>0</td>\n",
       "      <td>nonexistent</td>\n",
       "      <td>-1.8</td>\n",
       "      <td>93.075</td>\n",
       "      <td>-47.1</td>\n",
       "      <td>1.405</td>\n",
       "      <td>5099.1</td>\n",
       "      <td>no</td>\n",
       "    </tr>\n",
       "    <tr>\n",
       "      <th>3</th>\n",
       "      <td>44</td>\n",
       "      <td>blue-collar</td>\n",
       "      <td>married</td>\n",
       "      <td>basic.4y</td>\n",
       "      <td>unknown</td>\n",
       "      <td>no</td>\n",
       "      <td>no</td>\n",
       "      <td>cellular</td>\n",
       "      <td>may</td>\n",
       "      <td>fri</td>\n",
       "      <td>...</td>\n",
       "      <td>3</td>\n",
       "      <td>999</td>\n",
       "      <td>0</td>\n",
       "      <td>nonexistent</td>\n",
       "      <td>-1.8</td>\n",
       "      <td>92.893</td>\n",
       "      <td>-46.2</td>\n",
       "      <td>1.313</td>\n",
       "      <td>5099.1</td>\n",
       "      <td>no</td>\n",
       "    </tr>\n",
       "    <tr>\n",
       "      <th>4</th>\n",
       "      <td>32</td>\n",
       "      <td>technician</td>\n",
       "      <td>married</td>\n",
       "      <td>unknown</td>\n",
       "      <td>no</td>\n",
       "      <td>yes</td>\n",
       "      <td>no</td>\n",
       "      <td>cellular</td>\n",
       "      <td>jul</td>\n",
       "      <td>fri</td>\n",
       "      <td>...</td>\n",
       "      <td>2</td>\n",
       "      <td>999</td>\n",
       "      <td>0</td>\n",
       "      <td>nonexistent</td>\n",
       "      <td>1.4</td>\n",
       "      <td>93.918</td>\n",
       "      <td>-42.7</td>\n",
       "      <td>4.963</td>\n",
       "      <td>5228.1</td>\n",
       "      <td>no</td>\n",
       "    </tr>\n",
       "    <tr>\n",
       "      <th>5</th>\n",
       "      <td>46</td>\n",
       "      <td>services</td>\n",
       "      <td>married</td>\n",
       "      <td>high.school</td>\n",
       "      <td>unknown</td>\n",
       "      <td>yes</td>\n",
       "      <td>no</td>\n",
       "      <td>telephone</td>\n",
       "      <td>may</td>\n",
       "      <td>fri</td>\n",
       "      <td>...</td>\n",
       "      <td>1</td>\n",
       "      <td>999</td>\n",
       "      <td>0</td>\n",
       "      <td>nonexistent</td>\n",
       "      <td>1.1</td>\n",
       "      <td>93.994</td>\n",
       "      <td>-36.4</td>\n",
       "      <td>4.859</td>\n",
       "      <td>5191.0</td>\n",
       "      <td>no</td>\n",
       "    </tr>\n",
       "    <tr>\n",
       "      <th>6</th>\n",
       "      <td>33</td>\n",
       "      <td>admin.</td>\n",
       "      <td>single</td>\n",
       "      <td>university.degree</td>\n",
       "      <td>no</td>\n",
       "      <td>yes</td>\n",
       "      <td>yes</td>\n",
       "      <td>cellular</td>\n",
       "      <td>aug</td>\n",
       "      <td>wed</td>\n",
       "      <td>...</td>\n",
       "      <td>2</td>\n",
       "      <td>999</td>\n",
       "      <td>0</td>\n",
       "      <td>nonexistent</td>\n",
       "      <td>1.4</td>\n",
       "      <td>93.444</td>\n",
       "      <td>-36.1</td>\n",
       "      <td>4.965</td>\n",
       "      <td>5228.1</td>\n",
       "      <td>no</td>\n",
       "    </tr>\n",
       "    <tr>\n",
       "      <th>7</th>\n",
       "      <td>36</td>\n",
       "      <td>blue-collar</td>\n",
       "      <td>single</td>\n",
       "      <td>high.school</td>\n",
       "      <td>no</td>\n",
       "      <td>yes</td>\n",
       "      <td>yes</td>\n",
       "      <td>telephone</td>\n",
       "      <td>jun</td>\n",
       "      <td>fri</td>\n",
       "      <td>...</td>\n",
       "      <td>4</td>\n",
       "      <td>999</td>\n",
       "      <td>0</td>\n",
       "      <td>nonexistent</td>\n",
       "      <td>1.4</td>\n",
       "      <td>94.465</td>\n",
       "      <td>-41.8</td>\n",
       "      <td>4.959</td>\n",
       "      <td>5228.1</td>\n",
       "      <td>no</td>\n",
       "    </tr>\n",
       "    <tr>\n",
       "      <th>8</th>\n",
       "      <td>32</td>\n",
       "      <td>management</td>\n",
       "      <td>single</td>\n",
       "      <td>university.degree</td>\n",
       "      <td>unknown</td>\n",
       "      <td>yes</td>\n",
       "      <td>yes</td>\n",
       "      <td>cellular</td>\n",
       "      <td>apr</td>\n",
       "      <td>fri</td>\n",
       "      <td>...</td>\n",
       "      <td>3</td>\n",
       "      <td>999</td>\n",
       "      <td>0</td>\n",
       "      <td>nonexistent</td>\n",
       "      <td>-1.8</td>\n",
       "      <td>93.075</td>\n",
       "      <td>-47.1</td>\n",
       "      <td>1.405</td>\n",
       "      <td>5099.1</td>\n",
       "      <td>no</td>\n",
       "    </tr>\n",
       "    <tr>\n",
       "      <th>9</th>\n",
       "      <td>37</td>\n",
       "      <td>technician</td>\n",
       "      <td>single</td>\n",
       "      <td>university.degree</td>\n",
       "      <td>no</td>\n",
       "      <td>no</td>\n",
       "      <td>no</td>\n",
       "      <td>telephone</td>\n",
       "      <td>may</td>\n",
       "      <td>wed</td>\n",
       "      <td>...</td>\n",
       "      <td>2</td>\n",
       "      <td>999</td>\n",
       "      <td>0</td>\n",
       "      <td>nonexistent</td>\n",
       "      <td>1.1</td>\n",
       "      <td>93.994</td>\n",
       "      <td>-36.4</td>\n",
       "      <td>4.858</td>\n",
       "      <td>5191.0</td>\n",
       "      <td>no</td>\n",
       "    </tr>\n",
       "  </tbody>\n",
       "</table>\n",
       "<p>10 rows × 21 columns</p>\n",
       "</div>"
      ],
      "text/plain": [
       "   age          job  marital          education  default housing loan  \\\n",
       "0   31  blue-collar  married           basic.6y  unknown      no   no   \n",
       "1   32    housemaid   single  university.degree  unknown     yes   no   \n",
       "2   26       admin.  married        high.school       no     yes   no   \n",
       "3   44  blue-collar  married           basic.4y  unknown      no   no   \n",
       "4   32   technician  married            unknown       no     yes   no   \n",
       "5   46     services  married        high.school  unknown     yes   no   \n",
       "6   33       admin.   single  university.degree       no     yes  yes   \n",
       "7   36  blue-collar   single        high.school       no     yes  yes   \n",
       "8   32   management   single  university.degree  unknown     yes  yes   \n",
       "9   37   technician   single  university.degree       no      no   no   \n",
       "\n",
       "     contact month day_of_week  ...  campaign  pdays  previous     poutcome  \\\n",
       "0   cellular   jul         mon  ...         2    999         0  nonexistent   \n",
       "1   cellular   jul         tue  ...         4    999         0  nonexistent   \n",
       "2   cellular   apr         mon  ...         1    999         0  nonexistent   \n",
       "3   cellular   may         fri  ...         3    999         0  nonexistent   \n",
       "4   cellular   jul         fri  ...         2    999         0  nonexistent   \n",
       "5  telephone   may         fri  ...         1    999         0  nonexistent   \n",
       "6   cellular   aug         wed  ...         2    999         0  nonexistent   \n",
       "7  telephone   jun         fri  ...         4    999         0  nonexistent   \n",
       "8   cellular   apr         fri  ...         3    999         0  nonexistent   \n",
       "9  telephone   may         wed  ...         2    999         0  nonexistent   \n",
       "\n",
       "  emp.var.rate  cons.price.idx  cons.conf.idx  euribor3m  nr.employed   y  \n",
       "0          1.4          93.918          -42.7      4.960       5228.1  no  \n",
       "1          1.4          93.918          -42.7      4.961       5228.1  no  \n",
       "2         -1.8          93.075          -47.1      1.405       5099.1  no  \n",
       "3         -1.8          92.893          -46.2      1.313       5099.1  no  \n",
       "4          1.4          93.918          -42.7      4.963       5228.1  no  \n",
       "5          1.1          93.994          -36.4      4.859       5191.0  no  \n",
       "6          1.4          93.444          -36.1      4.965       5228.1  no  \n",
       "7          1.4          94.465          -41.8      4.959       5228.1  no  \n",
       "8         -1.8          93.075          -47.1      1.405       5099.1  no  \n",
       "9          1.1          93.994          -36.4      4.858       5191.0  no  \n",
       "\n",
       "[10 rows x 21 columns]"
      ]
     },
     "execution_count": 3,
     "metadata": {},
     "output_type": "execute_result"
    }
   ],
   "source": [
    "df.head(10)"
   ]
  },
  {
   "cell_type": "markdown",
   "metadata": {},
   "source": [
    "##  Summarize important observations from the data set (5 MARKS) \n",
    "Some pointers which would help you, but don’t be limited by these a. Find out number of rows; no. & types of variables (continuous, categorical etc.) b. Calculate five-point summary for numerical variables c. Summarize observations for categorical variables – no. of categories, % observations in each \n",
    "category"
   ]
  },
  {
   "cell_type": "code",
   "execution_count": 4,
   "metadata": {},
   "outputs": [
    {
     "data": {
      "text/plain": [
       "(2000, 21)"
      ]
     },
     "execution_count": 4,
     "metadata": {},
     "output_type": "execute_result"
    }
   ],
   "source": [
    "df.shape # Dataset has 2000 rows and 21 columns including one outcome column. "
   ]
  },
  {
   "cell_type": "code",
   "execution_count": 5,
   "metadata": {},
   "outputs": [
    {
     "name": "stdout",
     "output_type": "stream",
     "text": [
      "<class 'pandas.core.frame.DataFrame'>\n",
      "RangeIndex: 2000 entries, 0 to 1999\n",
      "Data columns (total 21 columns):\n",
      " #   Column          Non-Null Count  Dtype  \n",
      "---  ------          --------------  -----  \n",
      " 0   age             2000 non-null   int64  \n",
      " 1   job             2000 non-null   object \n",
      " 2   marital         2000 non-null   object \n",
      " 3   education       2000 non-null   object \n",
      " 4   default         2000 non-null   object \n",
      " 5   housing         2000 non-null   object \n",
      " 6   loan            2000 non-null   object \n",
      " 7   contact         2000 non-null   object \n",
      " 8   month           2000 non-null   object \n",
      " 9   day_of_week     2000 non-null   object \n",
      " 10  duration        2000 non-null   int64  \n",
      " 11  campaign        2000 non-null   int64  \n",
      " 12  pdays           2000 non-null   int64  \n",
      " 13  previous        2000 non-null   int64  \n",
      " 14  poutcome        2000 non-null   object \n",
      " 15  emp.var.rate    2000 non-null   float64\n",
      " 16  cons.price.idx  2000 non-null   float64\n",
      " 17  cons.conf.idx   2000 non-null   float64\n",
      " 18  euribor3m       2000 non-null   float64\n",
      " 19  nr.employed     2000 non-null   float64\n",
      " 20  y               2000 non-null   object \n",
      "dtypes: float64(5), int64(5), object(11)\n",
      "memory usage: 328.2+ KB\n"
     ]
    }
   ],
   "source": [
    "df.info() # Checking type of variables in columns(11 obj and 10 numerical type)"
   ]
  },
  {
   "cell_type": "code",
   "execution_count": 6,
   "metadata": {},
   "outputs": [
    {
     "data": {
      "text/plain": [
       "job            12\n",
       "marital         4\n",
       "education       8\n",
       "default         2\n",
       "housing         3\n",
       "loan            3\n",
       "contact         2\n",
       "month          10\n",
       "day_of_week     5\n",
       "poutcome        3\n",
       "y               2\n",
       "Name: unique, dtype: object"
      ]
     },
     "execution_count": 6,
     "metadata": {},
     "output_type": "execute_result"
    }
   ],
   "source": [
    "df.describe(include='object').loc['unique']"
   ]
  },
  {
   "cell_type": "markdown",
   "metadata": {},
   "source": [
    "## Here, we can see that the Target Variable 'y' has 2 categories hence, we conclude BIVARIATE ANALYSIS.."
   ]
  },
  {
   "cell_type": "markdown",
   "metadata": {},
   "source": [
    "## 5-Point Summary of only Numerical Columns:-\n",
    "\n"
   ]
  },
  {
   "cell_type": "code",
   "execution_count": 7,
   "metadata": {},
   "outputs": [
    {
     "data": {
      "text/html": [
       "<div>\n",
       "<style scoped>\n",
       "    .dataframe tbody tr th:only-of-type {\n",
       "        vertical-align: middle;\n",
       "    }\n",
       "\n",
       "    .dataframe tbody tr th {\n",
       "        vertical-align: top;\n",
       "    }\n",
       "\n",
       "    .dataframe thead th {\n",
       "        text-align: right;\n",
       "    }\n",
       "</style>\n",
       "<table border=\"1\" class=\"dataframe\">\n",
       "  <thead>\n",
       "    <tr style=\"text-align: right;\">\n",
       "      <th></th>\n",
       "      <th>age</th>\n",
       "      <th>duration</th>\n",
       "      <th>campaign</th>\n",
       "      <th>pdays</th>\n",
       "      <th>previous</th>\n",
       "      <th>emp.var.rate</th>\n",
       "      <th>cons.price.idx</th>\n",
       "      <th>cons.conf.idx</th>\n",
       "      <th>euribor3m</th>\n",
       "      <th>nr.employed</th>\n",
       "    </tr>\n",
       "  </thead>\n",
       "  <tbody>\n",
       "    <tr>\n",
       "      <th>count</th>\n",
       "      <td>2000.000000</td>\n",
       "      <td>2000.000000</td>\n",
       "      <td>2000.000000</td>\n",
       "      <td>2000.000000</td>\n",
       "      <td>2000.000000</td>\n",
       "      <td>2000.000000</td>\n",
       "      <td>2000.000000</td>\n",
       "      <td>2000.000000</td>\n",
       "      <td>2000.000000</td>\n",
       "      <td>2000.000000</td>\n",
       "    </tr>\n",
       "    <tr>\n",
       "      <th>mean</th>\n",
       "      <td>40.245500</td>\n",
       "      <td>250.380000</td>\n",
       "      <td>2.635500</td>\n",
       "      <td>964.745000</td>\n",
       "      <td>0.171000</td>\n",
       "      <td>0.101350</td>\n",
       "      <td>93.579410</td>\n",
       "      <td>-40.585500</td>\n",
       "      <td>3.637493</td>\n",
       "      <td>5167.775650</td>\n",
       "    </tr>\n",
       "    <tr>\n",
       "      <th>std</th>\n",
       "      <td>10.484188</td>\n",
       "      <td>245.386067</td>\n",
       "      <td>3.169174</td>\n",
       "      <td>181.260237</td>\n",
       "      <td>0.492829</td>\n",
       "      <td>1.551405</td>\n",
       "      <td>0.564451</td>\n",
       "      <td>4.563541</td>\n",
       "      <td>1.725587</td>\n",
       "      <td>71.453919</td>\n",
       "    </tr>\n",
       "    <tr>\n",
       "      <th>min</th>\n",
       "      <td>18.000000</td>\n",
       "      <td>4.000000</td>\n",
       "      <td>1.000000</td>\n",
       "      <td>1.000000</td>\n",
       "      <td>0.000000</td>\n",
       "      <td>-3.400000</td>\n",
       "      <td>92.201000</td>\n",
       "      <td>-50.800000</td>\n",
       "      <td>0.634000</td>\n",
       "      <td>4963.600000</td>\n",
       "    </tr>\n",
       "    <tr>\n",
       "      <th>25%</th>\n",
       "      <td>32.000000</td>\n",
       "      <td>103.000000</td>\n",
       "      <td>1.000000</td>\n",
       "      <td>999.000000</td>\n",
       "      <td>0.000000</td>\n",
       "      <td>-1.800000</td>\n",
       "      <td>93.075000</td>\n",
       "      <td>-42.700000</td>\n",
       "      <td>1.354000</td>\n",
       "      <td>5099.100000</td>\n",
       "    </tr>\n",
       "    <tr>\n",
       "      <th>50%</th>\n",
       "      <td>38.000000</td>\n",
       "      <td>173.000000</td>\n",
       "      <td>2.000000</td>\n",
       "      <td>999.000000</td>\n",
       "      <td>0.000000</td>\n",
       "      <td>1.100000</td>\n",
       "      <td>93.749000</td>\n",
       "      <td>-41.800000</td>\n",
       "      <td>4.857000</td>\n",
       "      <td>5191.000000</td>\n",
       "    </tr>\n",
       "    <tr>\n",
       "      <th>75%</th>\n",
       "      <td>48.000000</td>\n",
       "      <td>306.250000</td>\n",
       "      <td>3.000000</td>\n",
       "      <td>999.000000</td>\n",
       "      <td>0.000000</td>\n",
       "      <td>1.400000</td>\n",
       "      <td>93.994000</td>\n",
       "      <td>-36.400000</td>\n",
       "      <td>4.961000</td>\n",
       "      <td>5228.100000</td>\n",
       "    </tr>\n",
       "    <tr>\n",
       "      <th>max</th>\n",
       "      <td>85.000000</td>\n",
       "      <td>2635.000000</td>\n",
       "      <td>40.000000</td>\n",
       "      <td>999.000000</td>\n",
       "      <td>5.000000</td>\n",
       "      <td>1.400000</td>\n",
       "      <td>94.767000</td>\n",
       "      <td>-26.900000</td>\n",
       "      <td>5.000000</td>\n",
       "      <td>5228.100000</td>\n",
       "    </tr>\n",
       "  </tbody>\n",
       "</table>\n",
       "</div>"
      ],
      "text/plain": [
       "               age     duration     campaign        pdays     previous  \\\n",
       "count  2000.000000  2000.000000  2000.000000  2000.000000  2000.000000   \n",
       "mean     40.245500   250.380000     2.635500   964.745000     0.171000   \n",
       "std      10.484188   245.386067     3.169174   181.260237     0.492829   \n",
       "min      18.000000     4.000000     1.000000     1.000000     0.000000   \n",
       "25%      32.000000   103.000000     1.000000   999.000000     0.000000   \n",
       "50%      38.000000   173.000000     2.000000   999.000000     0.000000   \n",
       "75%      48.000000   306.250000     3.000000   999.000000     0.000000   \n",
       "max      85.000000  2635.000000    40.000000   999.000000     5.000000   \n",
       "\n",
       "       emp.var.rate  cons.price.idx  cons.conf.idx    euribor3m  nr.employed  \n",
       "count   2000.000000     2000.000000    2000.000000  2000.000000  2000.000000  \n",
       "mean       0.101350       93.579410     -40.585500     3.637493  5167.775650  \n",
       "std        1.551405        0.564451       4.563541     1.725587    71.453919  \n",
       "min       -3.400000       92.201000     -50.800000     0.634000  4963.600000  \n",
       "25%       -1.800000       93.075000     -42.700000     1.354000  5099.100000  \n",
       "50%        1.100000       93.749000     -41.800000     4.857000  5191.000000  \n",
       "75%        1.400000       93.994000     -36.400000     4.961000  5228.100000  \n",
       "max        1.400000       94.767000     -26.900000     5.000000  5228.100000  "
      ]
     },
     "execution_count": 7,
     "metadata": {},
     "output_type": "execute_result"
    }
   ],
   "source": [
    "df.describe(exclude ='object')\n",
    "\n",
    "# WE can see from here that the Means are significantly apart for these Variables."
   ]
  },
  {
   "cell_type": "markdown",
   "metadata": {},
   "source": [
    "## Summarize observations for categorical variables – no. of categories, % observations in each category"
   ]
  },
  {
   "cell_type": "code",
   "execution_count": 8,
   "metadata": {},
   "outputs": [
    {
     "data": {
      "text/plain": [
       "Index(['job', 'marital', 'education', 'default', 'housing', 'loan', 'contact',\n",
       "       'month', 'day_of_week', 'poutcome', 'y'],\n",
       "      dtype='object')"
      ]
     },
     "execution_count": 8,
     "metadata": {},
     "output_type": "execute_result"
    }
   ],
   "source": [
    "# Check Categorical Cols:\n",
    "\n",
    "cat_cols=df.select_dtypes(['object']).columns\n",
    "cat_cols"
   ]
  },
  {
   "cell_type": "code",
   "execution_count": 9,
   "metadata": {},
   "outputs": [
    {
     "name": "stdout",
     "output_type": "stream",
     "text": [
      "Categorical Column Name :- job \n",
      "\n",
      "No of Categories in :- job \n",
      " admin.           531\n",
      "blue-collar      429\n",
      "technician       328\n",
      "services         192\n",
      "management       160\n",
      "retired           96\n",
      "entrepreneur      61\n",
      "housemaid         56\n",
      "self-employed     49\n",
      "student           43\n",
      "unemployed        42\n",
      "unknown           13\n",
      "Name: job, dtype: int64\n",
      "Percentage of Each Category in job \n",
      " admin.           26.55\n",
      "blue-collar      21.45\n",
      "technician       16.40\n",
      "services          9.60\n",
      "management        8.00\n",
      "retired           4.80\n",
      "entrepreneur      3.05\n",
      "housemaid         2.80\n",
      "self-employed     2.45\n",
      "student           2.15\n",
      "unemployed        2.10\n",
      "unknown           0.65\n",
      "Name: job, dtype: float64 \n",
      "\n",
      "Categorical Column Name :- marital \n",
      "\n",
      "No of Categories in :- marital \n",
      " married     1193\n",
      "single       565\n",
      "divorced     238\n",
      "unknown        4\n",
      "Name: marital, dtype: int64\n",
      "Percentage of Each Category in marital \n",
      " married     59.65\n",
      "single      28.25\n",
      "divorced    11.90\n",
      "unknown      0.20\n",
      "Name: marital, dtype: float64 \n",
      "\n",
      "Categorical Column Name :- education \n",
      "\n",
      "No of Categories in :- education \n",
      " university.degree      568\n",
      "high.school            523\n",
      "basic.9y               260\n",
      "professional.course    243\n",
      "basic.4y               215\n",
      "basic.6y                98\n",
      "unknown                 92\n",
      "illiterate               1\n",
      "Name: education, dtype: int64\n",
      "Percentage of Each Category in education \n",
      " university.degree      28.40\n",
      "high.school            26.15\n",
      "basic.9y               13.00\n",
      "professional.course    12.15\n",
      "basic.4y               10.75\n",
      "basic.6y                4.90\n",
      "unknown                 4.60\n",
      "illiterate              0.05\n",
      "Name: education, dtype: float64 \n",
      "\n",
      "Categorical Column Name :- default \n",
      "\n",
      "No of Categories in :- default \n",
      " no         1572\n",
      "unknown     428\n",
      "Name: default, dtype: int64\n",
      "Percentage of Each Category in default \n",
      " no         78.6\n",
      "unknown    21.4\n",
      "Name: default, dtype: float64 \n",
      "\n",
      "Categorical Column Name :- housing \n",
      "\n",
      "No of Categories in :- housing \n",
      " yes        1071\n",
      "no          877\n",
      "unknown      52\n",
      "Name: housing, dtype: int64\n",
      "Percentage of Each Category in housing \n",
      " yes        53.55\n",
      "no         43.85\n",
      "unknown     2.60\n",
      "Name: housing, dtype: float64 \n",
      "\n",
      "Categorical Column Name :- loan \n",
      "\n",
      "No of Categories in :- loan \n",
      " no         1639\n",
      "yes         309\n",
      "unknown      52\n",
      "Name: loan, dtype: int64\n",
      "Percentage of Each Category in loan \n",
      " no         81.95\n",
      "yes        15.45\n",
      "unknown     2.60\n",
      "Name: loan, dtype: float64 \n",
      "\n",
      "Categorical Column Name :- contact \n",
      "\n",
      "No of Categories in :- contact \n",
      " cellular     1266\n",
      "telephone     734\n",
      "Name: contact, dtype: int64\n",
      "Percentage of Each Category in contact \n",
      " cellular     63.3\n",
      "telephone    36.7\n",
      "Name: contact, dtype: float64 \n",
      "\n",
      "Categorical Column Name :- month \n",
      "\n",
      "No of Categories in :- month \n",
      " may    682\n",
      "jul    352\n",
      "aug    296\n",
      "jun    247\n",
      "nov    195\n",
      "apr    133\n",
      "oct     32\n",
      "mar     28\n",
      "sep     25\n",
      "dec     10\n",
      "Name: month, dtype: int64\n",
      "Percentage of Each Category in month \n",
      " may    34.10\n",
      "jul    17.60\n",
      "aug    14.80\n",
      "jun    12.35\n",
      "nov     9.75\n",
      "apr     6.65\n",
      "oct     1.60\n",
      "mar     1.40\n",
      "sep     1.25\n",
      "dec     0.50\n",
      "Name: month, dtype: float64 \n",
      "\n",
      "Categorical Column Name :- day_of_week \n",
      "\n",
      "No of Categories in :- day_of_week \n",
      " wed    426\n",
      "thu    402\n",
      "mon    400\n",
      "tue    397\n",
      "fri    375\n",
      "Name: day_of_week, dtype: int64\n",
      "Percentage of Each Category in day_of_week \n",
      " wed    21.30\n",
      "thu    20.10\n",
      "mon    20.00\n",
      "tue    19.85\n",
      "fri    18.75\n",
      "Name: day_of_week, dtype: float64 \n",
      "\n",
      "Categorical Column Name :- poutcome \n",
      "\n",
      "No of Categories in :- poutcome \n",
      " nonexistent    1729\n",
      "failure         207\n",
      "success          64\n",
      "Name: poutcome, dtype: int64\n",
      "Percentage of Each Category in poutcome \n",
      " nonexistent    86.45\n",
      "failure        10.35\n",
      "success         3.20\n",
      "Name: poutcome, dtype: float64 \n",
      "\n",
      "Categorical Column Name :- y \n",
      "\n",
      "No of Categories in :- y \n",
      " no     1802\n",
      "yes     198\n",
      "Name: y, dtype: int64\n",
      "Percentage of Each Category in y \n",
      " no     90.1\n",
      "yes     9.9\n",
      "Name: y, dtype: float64 \n",
      "\n"
     ]
    }
   ],
   "source": [
    "for i in (cat_cols):\n",
    "    print( 'Categorical Column Name :-',i,'\\n')\n",
    "    print('No of Categories in :-',i,'\\n',df[i].value_counts())\n",
    "    print('Percentage of Each Category in', i,'\\n',df[i].value_counts(normalize =True).mul(100).round(2),'\\n')"
   ]
  },
  {
   "cell_type": "markdown",
   "metadata": {},
   "source": [
    "## 3. Check for defects in the data. Perform necessary actions to ‘fix’ these defects "
   ]
  },
  {
   "cell_type": "code",
   "execution_count": 10,
   "metadata": {},
   "outputs": [
    {
     "data": {
      "text/plain": [
       "age               0\n",
       "job               0\n",
       "marital           0\n",
       "education         0\n",
       "default           0\n",
       "housing           0\n",
       "loan              0\n",
       "contact           0\n",
       "month             0\n",
       "day_of_week       0\n",
       "duration          0\n",
       "campaign          0\n",
       "pdays             0\n",
       "previous          0\n",
       "poutcome          0\n",
       "emp.var.rate      0\n",
       "cons.price.idx    0\n",
       "cons.conf.idx     0\n",
       "euribor3m         0\n",
       "nr.employed       0\n",
       "y                 0\n",
       "dtype: int64"
      ]
     },
     "execution_count": 10,
     "metadata": {},
     "output_type": "execute_result"
    }
   ],
   "source": [
    "df.isnull().sum()"
   ]
  },
  {
   "cell_type": "code",
   "execution_count": 11,
   "metadata": {},
   "outputs": [
    {
     "data": {
      "text/plain": [
       "age               0\n",
       "job               0\n",
       "marital           0\n",
       "education         0\n",
       "default           0\n",
       "housing           0\n",
       "loan              0\n",
       "contact           0\n",
       "month             0\n",
       "day_of_week       0\n",
       "duration          0\n",
       "campaign          0\n",
       "pdays             0\n",
       "previous          0\n",
       "poutcome          0\n",
       "emp.var.rate      0\n",
       "cons.price.idx    0\n",
       "cons.conf.idx     0\n",
       "euribor3m         0\n",
       "nr.employed       0\n",
       "y                 0\n",
       "dtype: int64"
      ]
     },
     "execution_count": 11,
     "metadata": {},
     "output_type": "execute_result"
    }
   ],
   "source": [
    "df.isna().sum()"
   ]
  },
  {
   "cell_type": "code",
   "execution_count": 12,
   "metadata": {},
   "outputs": [
    {
     "data": {
      "text/plain": [
       "no     1802\n",
       "yes     198\n",
       "Name: y, dtype: int64"
      ]
     },
     "execution_count": 12,
     "metadata": {},
     "output_type": "execute_result"
    }
   ],
   "source": [
    "df['y'].value_counts() # Output Column,Bivariate.."
   ]
  },
  {
   "cell_type": "markdown",
   "metadata": {},
   "source": [
    "##  b.    Do variables have outliers? "
   ]
  },
  {
   "cell_type": "code",
   "execution_count": 13,
   "metadata": {},
   "outputs": [
    {
     "data": {
      "image/png": "[encoded data removed]",
      "text/plain": [
       "<Figure size 1080x720 with 10 Axes>"
      ]
     },
     "metadata": {
      "needs_background": "light"
     },
     "output_type": "display_data"
    }
   ],
   "source": [
    "## BOXPLOT Analysis:-\n",
    "\n",
    "fig, ax  = plt.subplots(5,2,figsize = (18,10))\n",
    "count = 0\n",
    "cols = df.select_dtypes(include = np.number)\n",
    "cols = cols.columns\n",
    "for i in range(5):\n",
    "    for j in range(2):\n",
    "        s = cols[count+j]\n",
    "        sns.boxplot(df[s].values,ax = ax[i][j],color = 'c')\n",
    "        ax[i][j].set_title(s,fontsize = 15)\n",
    "        fig = plt.gcf()\n",
    "        fig.set_size_inches(15,10)\n",
    "        plt.tight_layout()\n",
    "    count = count+j+1"
   ]
  },
  {
   "cell_type": "markdown",
   "metadata": {},
   "source": [
    "## WE can see certain number of Outliers in 'age', 'duration', 'campaign' etc..\n",
    "## But its important to note that since this is a sensitive Bank Dataset the above columns should be treated as 'Extreme values' which provides important insights and not 'Outliers'. "
   ]
  },
  {
   "cell_type": "markdown",
   "metadata": {},
   "source": [
    "## c. Is the Target distributed evenly? Is it a defect? If Yes, what steps are being taken to rectify the problem. "
   ]
  },
  {
   "cell_type": "code",
   "execution_count": 14,
   "metadata": {},
   "outputs": [
    {
     "name": "stdout",
     "output_type": "stream",
     "text": [
      "Number of Cx subscribing to Term Deposit:  1802\n",
      "Number of Cx NOT subscribing to Term Deposit:  198\n"
     ]
    },
    {
     "data": {
      "image/png": "[encoded data removed]",
      "text/plain": [
       "<Figure size 432x288 with 1 Axes>"
      ]
     },
     "metadata": {
      "needs_background": "light"
     },
     "output_type": "display_data"
    }
   ],
   "source": [
    "sns.countplot(data=df, x = 'y', label='Count')\n",
    "\n",
    "YTD, NTD =df['y'].value_counts()\n",
    "print('Number of Cx subscribing to Term Deposit: ',YTD)\n",
    "print('Number of Cx NOT subscribing to Term Deposit: ',NTD)"
   ]
  },
  {
   "cell_type": "markdown",
   "metadata": {},
   "source": [
    "## WE CAN CLEARLY SEE AN IMBALANCE IN THE RESPONSES OF THE DATASET (1802 VS 198), HENCE RESAMPLING may solve the problem or SMOTE can be applied here to enhance Training accuracy of the model.."
   ]
  },
  {
   "cell_type": "code",
   "execution_count": 15,
   "metadata": {},
   "outputs": [
    {
     "data": {
      "text/plain": [
       "<matplotlib.axes._subplots.AxesSubplot at 0xbd21f28>"
      ]
     },
     "execution_count": 15,
     "metadata": {},
     "output_type": "execute_result"
    },
    {
     "data": {
      "image/png": "[encoded data removed]",
      "text/plain": [
       "<Figure size 432x288 with 1 Axes>"
      ]
     },
     "metadata": {
      "needs_background": "light"
     },
     "output_type": "display_data"
    }
   ],
   "source": [
    "from sklearn.utils import resample\n",
    "df_minor=df[df['y']=='yes']\n",
    "df_major=df[df['y']=='no']\n",
    "\n",
    "# Upsampling the minority class to the number of rows in the majority class by using the\n",
    "# sampling with replacement technique.\n",
    "df_minority_upsampled=resample(df_minor,replace=True,n_samples=len(df_major),random_state=42)\n",
    "# Concatenating the majority data and the upsampled data\n",
    "df_sampled=pd.concat([df_major,df_minority_upsampled])\n",
    "sns.countplot(df_sampled['y'])"
   ]
  },
  {
   "cell_type": "code",
   "execution_count": 16,
   "metadata": {},
   "outputs": [
    {
     "data": {
      "text/plain": [
       "(3604, 21)"
      ]
     },
     "execution_count": 16,
     "metadata": {},
     "output_type": "execute_result"
    }
   ],
   "source": [
    "df_sampled.shape ## we see rise in number of rows.."
   ]
  },
  {
   "cell_type": "code",
   "execution_count": 17,
   "metadata": {},
   "outputs": [],
   "source": [
    "## Checking Types of Variables again:-\n",
    "\n",
    "numeric=df_sampled.select_dtypes(include=[\"float64\",\"int64\"])\n",
    "categoric=df_sampled.select_dtypes(exclude=[\"float64\",\"int64\"])"
   ]
  },
  {
   "cell_type": "code",
   "execution_count": 18,
   "metadata": {},
   "outputs": [
    {
     "data": {
      "text/html": [
       "<div>\n",
       "<style scoped>\n",
       "    .dataframe tbody tr th:only-of-type {\n",
       "        vertical-align: middle;\n",
       "    }\n",
       "\n",
       "    .dataframe tbody tr th {\n",
       "        vertical-align: top;\n",
       "    }\n",
       "\n",
       "    .dataframe thead th {\n",
       "        text-align: right;\n",
       "    }\n",
       "</style>\n",
       "<table border=\"1\" class=\"dataframe\">\n",
       "  <thead>\n",
       "    <tr style=\"text-align: right;\">\n",
       "      <th></th>\n",
       "      <th>age</th>\n",
       "      <th>duration</th>\n",
       "      <th>campaign</th>\n",
       "      <th>pdays</th>\n",
       "      <th>previous</th>\n",
       "      <th>emp.var.rate</th>\n",
       "      <th>cons.price.idx</th>\n",
       "      <th>cons.conf.idx</th>\n",
       "      <th>euribor3m</th>\n",
       "      <th>nr.employed</th>\n",
       "    </tr>\n",
       "  </thead>\n",
       "  <tbody>\n",
       "    <tr>\n",
       "      <th>0</th>\n",
       "      <td>31</td>\n",
       "      <td>196</td>\n",
       "      <td>2</td>\n",
       "      <td>999</td>\n",
       "      <td>0</td>\n",
       "      <td>1.4</td>\n",
       "      <td>93.918</td>\n",
       "      <td>-42.7</td>\n",
       "      <td>4.960</td>\n",
       "      <td>5228.1</td>\n",
       "    </tr>\n",
       "    <tr>\n",
       "      <th>1</th>\n",
       "      <td>32</td>\n",
       "      <td>71</td>\n",
       "      <td>4</td>\n",
       "      <td>999</td>\n",
       "      <td>0</td>\n",
       "      <td>1.4</td>\n",
       "      <td>93.918</td>\n",
       "      <td>-42.7</td>\n",
       "      <td>4.961</td>\n",
       "      <td>5228.1</td>\n",
       "    </tr>\n",
       "    <tr>\n",
       "      <th>2</th>\n",
       "      <td>26</td>\n",
       "      <td>61</td>\n",
       "      <td>1</td>\n",
       "      <td>999</td>\n",
       "      <td>0</td>\n",
       "      <td>-1.8</td>\n",
       "      <td>93.075</td>\n",
       "      <td>-47.1</td>\n",
       "      <td>1.405</td>\n",
       "      <td>5099.1</td>\n",
       "    </tr>\n",
       "    <tr>\n",
       "      <th>3</th>\n",
       "      <td>44</td>\n",
       "      <td>361</td>\n",
       "      <td>3</td>\n",
       "      <td>999</td>\n",
       "      <td>0</td>\n",
       "      <td>-1.8</td>\n",
       "      <td>92.893</td>\n",
       "      <td>-46.2</td>\n",
       "      <td>1.313</td>\n",
       "      <td>5099.1</td>\n",
       "    </tr>\n",
       "    <tr>\n",
       "      <th>4</th>\n",
       "      <td>32</td>\n",
       "      <td>107</td>\n",
       "      <td>2</td>\n",
       "      <td>999</td>\n",
       "      <td>0</td>\n",
       "      <td>1.4</td>\n",
       "      <td>93.918</td>\n",
       "      <td>-42.7</td>\n",
       "      <td>4.963</td>\n",
       "      <td>5228.1</td>\n",
       "    </tr>\n",
       "    <tr>\n",
       "      <th>...</th>\n",
       "      <td>...</td>\n",
       "      <td>...</td>\n",
       "      <td>...</td>\n",
       "      <td>...</td>\n",
       "      <td>...</td>\n",
       "      <td>...</td>\n",
       "      <td>...</td>\n",
       "      <td>...</td>\n",
       "      <td>...</td>\n",
       "      <td>...</td>\n",
       "    </tr>\n",
       "    <tr>\n",
       "      <th>775</th>\n",
       "      <td>55</td>\n",
       "      <td>131</td>\n",
       "      <td>1</td>\n",
       "      <td>999</td>\n",
       "      <td>0</td>\n",
       "      <td>-3.4</td>\n",
       "      <td>92.431</td>\n",
       "      <td>-26.9</td>\n",
       "      <td>0.728</td>\n",
       "      <td>5017.5</td>\n",
       "    </tr>\n",
       "    <tr>\n",
       "      <th>143</th>\n",
       "      <td>41</td>\n",
       "      <td>187</td>\n",
       "      <td>1</td>\n",
       "      <td>6</td>\n",
       "      <td>1</td>\n",
       "      <td>-1.8</td>\n",
       "      <td>93.369</td>\n",
       "      <td>-34.8</td>\n",
       "      <td>0.635</td>\n",
       "      <td>5008.7</td>\n",
       "    </tr>\n",
       "    <tr>\n",
       "      <th>394</th>\n",
       "      <td>31</td>\n",
       "      <td>625</td>\n",
       "      <td>1</td>\n",
       "      <td>999</td>\n",
       "      <td>0</td>\n",
       "      <td>1.4</td>\n",
       "      <td>93.918</td>\n",
       "      <td>-42.7</td>\n",
       "      <td>4.962</td>\n",
       "      <td>5228.1</td>\n",
       "    </tr>\n",
       "    <tr>\n",
       "      <th>1927</th>\n",
       "      <td>29</td>\n",
       "      <td>566</td>\n",
       "      <td>2</td>\n",
       "      <td>999</td>\n",
       "      <td>0</td>\n",
       "      <td>-1.8</td>\n",
       "      <td>92.893</td>\n",
       "      <td>-46.2</td>\n",
       "      <td>1.266</td>\n",
       "      <td>5099.1</td>\n",
       "    </tr>\n",
       "    <tr>\n",
       "      <th>152</th>\n",
       "      <td>33</td>\n",
       "      <td>614</td>\n",
       "      <td>2</td>\n",
       "      <td>999</td>\n",
       "      <td>0</td>\n",
       "      <td>1.4</td>\n",
       "      <td>93.918</td>\n",
       "      <td>-42.7</td>\n",
       "      <td>4.963</td>\n",
       "      <td>5228.1</td>\n",
       "    </tr>\n",
       "  </tbody>\n",
       "</table>\n",
       "<p>3604 rows × 10 columns</p>\n",
       "</div>"
      ],
      "text/plain": [
       "      age  duration  campaign  pdays  previous  emp.var.rate  cons.price.idx  \\\n",
       "0      31       196         2    999         0           1.4          93.918   \n",
       "1      32        71         4    999         0           1.4          93.918   \n",
       "2      26        61         1    999         0          -1.8          93.075   \n",
       "3      44       361         3    999         0          -1.8          92.893   \n",
       "4      32       107         2    999         0           1.4          93.918   \n",
       "...   ...       ...       ...    ...       ...           ...             ...   \n",
       "775    55       131         1    999         0          -3.4          92.431   \n",
       "143    41       187         1      6         1          -1.8          93.369   \n",
       "394    31       625         1    999         0           1.4          93.918   \n",
       "1927   29       566         2    999         0          -1.8          92.893   \n",
       "152    33       614         2    999         0           1.4          93.918   \n",
       "\n",
       "      cons.conf.idx  euribor3m  nr.employed  \n",
       "0             -42.7      4.960       5228.1  \n",
       "1             -42.7      4.961       5228.1  \n",
       "2             -47.1      1.405       5099.1  \n",
       "3             -46.2      1.313       5099.1  \n",
       "4             -42.7      4.963       5228.1  \n",
       "...             ...        ...          ...  \n",
       "775           -26.9      0.728       5017.5  \n",
       "143           -34.8      0.635       5008.7  \n",
       "394           -42.7      4.962       5228.1  \n",
       "1927          -46.2      1.266       5099.1  \n",
       "152           -42.7      4.963       5228.1  \n",
       "\n",
       "[3604 rows x 10 columns]"
      ]
     },
     "execution_count": 18,
     "metadata": {},
     "output_type": "execute_result"
    }
   ],
   "source": [
    "numeric"
   ]
  },
  {
   "cell_type": "code",
   "execution_count": 19,
   "metadata": {},
   "outputs": [
    {
     "data": {
      "text/html": [
       "<div>\n",
       "<style scoped>\n",
       "    .dataframe tbody tr th:only-of-type {\n",
       "        vertical-align: middle;\n",
       "    }\n",
       "\n",
       "    .dataframe tbody tr th {\n",
       "        vertical-align: top;\n",
       "    }\n",
       "\n",
       "    .dataframe thead th {\n",
       "        text-align: right;\n",
       "    }\n",
       "</style>\n",
       "<table border=\"1\" class=\"dataframe\">\n",
       "  <thead>\n",
       "    <tr style=\"text-align: right;\">\n",
       "      <th></th>\n",
       "      <th>job</th>\n",
       "      <th>marital</th>\n",
       "      <th>education</th>\n",
       "      <th>default</th>\n",
       "      <th>housing</th>\n",
       "      <th>loan</th>\n",
       "      <th>contact</th>\n",
       "      <th>month</th>\n",
       "      <th>day_of_week</th>\n",
       "      <th>poutcome</th>\n",
       "      <th>y</th>\n",
       "    </tr>\n",
       "  </thead>\n",
       "  <tbody>\n",
       "    <tr>\n",
       "      <th>0</th>\n",
       "      <td>blue-collar</td>\n",
       "      <td>married</td>\n",
       "      <td>basic.6y</td>\n",
       "      <td>unknown</td>\n",
       "      <td>no</td>\n",
       "      <td>no</td>\n",
       "      <td>cellular</td>\n",
       "      <td>jul</td>\n",
       "      <td>mon</td>\n",
       "      <td>nonexistent</td>\n",
       "      <td>no</td>\n",
       "    </tr>\n",
       "    <tr>\n",
       "      <th>1</th>\n",
       "      <td>housemaid</td>\n",
       "      <td>single</td>\n",
       "      <td>university.degree</td>\n",
       "      <td>unknown</td>\n",
       "      <td>yes</td>\n",
       "      <td>no</td>\n",
       "      <td>cellular</td>\n",
       "      <td>jul</td>\n",
       "      <td>tue</td>\n",
       "      <td>nonexistent</td>\n",
       "      <td>no</td>\n",
       "    </tr>\n",
       "    <tr>\n",
       "      <th>2</th>\n",
       "      <td>admin.</td>\n",
       "      <td>married</td>\n",
       "      <td>high.school</td>\n",
       "      <td>no</td>\n",
       "      <td>yes</td>\n",
       "      <td>no</td>\n",
       "      <td>cellular</td>\n",
       "      <td>apr</td>\n",
       "      <td>mon</td>\n",
       "      <td>nonexistent</td>\n",
       "      <td>no</td>\n",
       "    </tr>\n",
       "    <tr>\n",
       "      <th>3</th>\n",
       "      <td>blue-collar</td>\n",
       "      <td>married</td>\n",
       "      <td>basic.4y</td>\n",
       "      <td>unknown</td>\n",
       "      <td>no</td>\n",
       "      <td>no</td>\n",
       "      <td>cellular</td>\n",
       "      <td>may</td>\n",
       "      <td>fri</td>\n",
       "      <td>nonexistent</td>\n",
       "      <td>no</td>\n",
       "    </tr>\n",
       "    <tr>\n",
       "      <th>4</th>\n",
       "      <td>technician</td>\n",
       "      <td>married</td>\n",
       "      <td>unknown</td>\n",
       "      <td>no</td>\n",
       "      <td>yes</td>\n",
       "      <td>no</td>\n",
       "      <td>cellular</td>\n",
       "      <td>jul</td>\n",
       "      <td>fri</td>\n",
       "      <td>nonexistent</td>\n",
       "      <td>no</td>\n",
       "    </tr>\n",
       "    <tr>\n",
       "      <th>...</th>\n",
       "      <td>...</td>\n",
       "      <td>...</td>\n",
       "      <td>...</td>\n",
       "      <td>...</td>\n",
       "      <td>...</td>\n",
       "      <td>...</td>\n",
       "      <td>...</td>\n",
       "      <td>...</td>\n",
       "      <td>...</td>\n",
       "      <td>...</td>\n",
       "      <td>...</td>\n",
       "    </tr>\n",
       "    <tr>\n",
       "      <th>775</th>\n",
       "      <td>unemployed</td>\n",
       "      <td>married</td>\n",
       "      <td>basic.9y</td>\n",
       "      <td>no</td>\n",
       "      <td>no</td>\n",
       "      <td>no</td>\n",
       "      <td>cellular</td>\n",
       "      <td>oct</td>\n",
       "      <td>tue</td>\n",
       "      <td>nonexistent</td>\n",
       "      <td>yes</td>\n",
       "    </tr>\n",
       "    <tr>\n",
       "      <th>143</th>\n",
       "      <td>technician</td>\n",
       "      <td>divorced</td>\n",
       "      <td>university.degree</td>\n",
       "      <td>no</td>\n",
       "      <td>no</td>\n",
       "      <td>no</td>\n",
       "      <td>cellular</td>\n",
       "      <td>mar</td>\n",
       "      <td>thu</td>\n",
       "      <td>success</td>\n",
       "      <td>yes</td>\n",
       "    </tr>\n",
       "    <tr>\n",
       "      <th>394</th>\n",
       "      <td>technician</td>\n",
       "      <td>divorced</td>\n",
       "      <td>professional.course</td>\n",
       "      <td>no</td>\n",
       "      <td>yes</td>\n",
       "      <td>no</td>\n",
       "      <td>cellular</td>\n",
       "      <td>jul</td>\n",
       "      <td>wed</td>\n",
       "      <td>nonexistent</td>\n",
       "      <td>yes</td>\n",
       "    </tr>\n",
       "    <tr>\n",
       "      <th>1927</th>\n",
       "      <td>admin.</td>\n",
       "      <td>single</td>\n",
       "      <td>high.school</td>\n",
       "      <td>no</td>\n",
       "      <td>yes</td>\n",
       "      <td>no</td>\n",
       "      <td>cellular</td>\n",
       "      <td>may</td>\n",
       "      <td>thu</td>\n",
       "      <td>nonexistent</td>\n",
       "      <td>yes</td>\n",
       "    </tr>\n",
       "    <tr>\n",
       "      <th>152</th>\n",
       "      <td>admin.</td>\n",
       "      <td>single</td>\n",
       "      <td>university.degree</td>\n",
       "      <td>no</td>\n",
       "      <td>yes</td>\n",
       "      <td>no</td>\n",
       "      <td>cellular</td>\n",
       "      <td>jul</td>\n",
       "      <td>fri</td>\n",
       "      <td>nonexistent</td>\n",
       "      <td>yes</td>\n",
       "    </tr>\n",
       "  </tbody>\n",
       "</table>\n",
       "<p>3604 rows × 11 columns</p>\n",
       "</div>"
      ],
      "text/plain": [
       "              job   marital            education  default housing loan  \\\n",
       "0     blue-collar   married             basic.6y  unknown      no   no   \n",
       "1       housemaid    single    university.degree  unknown     yes   no   \n",
       "2          admin.   married          high.school       no     yes   no   \n",
       "3     blue-collar   married             basic.4y  unknown      no   no   \n",
       "4      technician   married              unknown       no     yes   no   \n",
       "...           ...       ...                  ...      ...     ...  ...   \n",
       "775    unemployed   married             basic.9y       no      no   no   \n",
       "143    technician  divorced    university.degree       no      no   no   \n",
       "394    technician  divorced  professional.course       no     yes   no   \n",
       "1927       admin.    single          high.school       no     yes   no   \n",
       "152        admin.    single    university.degree       no     yes   no   \n",
       "\n",
       "       contact month day_of_week     poutcome    y  \n",
       "0     cellular   jul         mon  nonexistent   no  \n",
       "1     cellular   jul         tue  nonexistent   no  \n",
       "2     cellular   apr         mon  nonexistent   no  \n",
       "3     cellular   may         fri  nonexistent   no  \n",
       "4     cellular   jul         fri  nonexistent   no  \n",
       "...        ...   ...         ...          ...  ...  \n",
       "775   cellular   oct         tue  nonexistent  yes  \n",
       "143   cellular   mar         thu      success  yes  \n",
       "394   cellular   jul         wed  nonexistent  yes  \n",
       "1927  cellular   may         thu  nonexistent  yes  \n",
       "152   cellular   jul         fri  nonexistent  yes  \n",
       "\n",
       "[3604 rows x 11 columns]"
      ]
     },
     "execution_count": 19,
     "metadata": {},
     "output_type": "execute_result"
    }
   ],
   "source": [
    "categoric"
   ]
  },
  {
   "cell_type": "markdown",
   "metadata": {},
   "source": [
    "## 4. Summarize relationships among variables (10 marks)\n",
    "#  a.    Plot relevant categorical plots. Find out which are the variables most correlated or appear to be in causation with Target? Do you want to exclude some variables from the model based on this analysis? What other actions will you take?\n"
   ]
  },
  {
   "cell_type": "code",
   "execution_count": 20,
   "metadata": {},
   "outputs": [
    {
     "data": {
      "text/plain": [
       "<matplotlib.axes._subplots.AxesSubplot at 0xb66d8d0>"
      ]
     },
     "execution_count": 20,
     "metadata": {},
     "output_type": "execute_result"
    },
    {
     "data": {
      "image/png": "[encoded data removed]",
      "text/plain": [
       "<Figure size 432x288 with 1 Axes>"
      ]
     },
     "metadata": {
      "needs_background": "light"
     },
     "output_type": "display_data"
    }
   ],
   "source": [
    "sns.countplot(data=categoric, x = 'marital', label='Count')\n",
    "\n",
    "## Married customers dominate followed by single then divorced.."
   ]
  },
  {
   "cell_type": "code",
   "execution_count": 21,
   "metadata": {},
   "outputs": [
    {
     "data": {
      "text/plain": [
       "<matplotlib.axes._subplots.AxesSubplot at 0xbdcde48>"
      ]
     },
     "execution_count": 21,
     "metadata": {},
     "output_type": "execute_result"
    },
    {
     "data": {
      "image/png": "[encoded data removed]",
      "text/plain": [
       "<Figure size 432x288 with 1 Axes>"
      ]
     },
     "metadata": {
      "needs_background": "light"
     },
     "output_type": "display_data"
    }
   ],
   "source": [
    "sns.countplot(data=categoric, x = 'marital', label='Count')\n",
    "\n",
    "## Admin, blue-collar,technician dominates the Dataset..."
   ]
  },
  {
   "cell_type": "code",
   "execution_count": 22,
   "metadata": {},
   "outputs": [
    {
     "data": {
      "text/plain": [
       "admin.           1175\n",
       "blue-collar       620\n",
       "technician        534\n",
       "services          270\n",
       "retired           270\n",
       "management        241\n",
       "student           148\n",
       "entrepreneur      129\n",
       "self-employed      65\n",
       "housemaid          63\n",
       "unemployed         63\n",
       "unknown            26\n",
       "Name: job, dtype: int64"
      ]
     },
     "execution_count": 22,
     "metadata": {},
     "output_type": "execute_result"
    }
   ],
   "source": [
    "categoric['job'].value_counts()"
   ]
  },
  {
   "cell_type": "code",
   "execution_count": 23,
   "metadata": {},
   "outputs": [
    {
     "data": {
      "text/plain": [
       "<matplotlib.axes._subplots.AxesSubplot at 0xbe19e80>"
      ]
     },
     "execution_count": 23,
     "metadata": {},
     "output_type": "execute_result"
    },
    {
     "data": {
      "image/png": "[encoded data removed]",
      "text/plain": [
       "<Figure size 432x288 with 1 Axes>"
      ]
     },
     "metadata": {
      "needs_background": "light"
     },
     "output_type": "display_data"
    }
   ],
   "source": [
    "sns.countplot(data=categoric, x = 'education', label='Count')\n"
   ]
  },
  {
   "cell_type": "code",
   "execution_count": 24,
   "metadata": {},
   "outputs": [],
   "source": [
    "\n",
    "# Majority falls in Not a Defaulter Category.."
   ]
  },
  {
   "cell_type": "code",
   "execution_count": 25,
   "metadata": {},
   "outputs": [
    {
     "data": {
      "text/plain": [
       "no         3043\n",
       "unknown     561\n",
       "Name: default, dtype: int64"
      ]
     },
     "execution_count": 25,
     "metadata": {},
     "output_type": "execute_result"
    }
   ],
   "source": [
    "categoric['default'].value_counts()"
   ]
  },
  {
   "cell_type": "code",
   "execution_count": 26,
   "metadata": {},
   "outputs": [
    {
     "data": {
      "text/plain": [
       "<matplotlib.axes._subplots.AxesSubplot at 0xbebe9e8>"
      ]
     },
     "execution_count": 26,
     "metadata": {},
     "output_type": "execute_result"
    },
    {
     "data": {
      "image/png": "[encoded data removed]",
      "text/plain": [
       "<Figure size 432x288 with 1 Axes>"
      ]
     },
     "metadata": {
      "needs_background": "light"
     },
     "output_type": "display_data"
    }
   ],
   "source": [
    "sns.countplot(data=categoric, x = 'housing', label='Count')\n",
    "## Yes in Housing dominates ie. Majority have existing Housing Loans"
   ]
  },
  {
   "cell_type": "code",
   "execution_count": 27,
   "metadata": {},
   "outputs": [
    {
     "data": {
      "text/plain": [
       "<matplotlib.axes._subplots.AxesSubplot at 0xbf16588>"
      ]
     },
     "execution_count": 27,
     "metadata": {},
     "output_type": "execute_result"
    },
    {
     "data": {
      "image/png": "[encoded data removed]",
      "text/plain": [
       "<Figure size 432x288 with 1 Axes>"
      ]
     },
     "metadata": {
      "needs_background": "light"
     },
     "output_type": "display_data"
    }
   ],
   "source": [
    "sns.countplot(data=categoric, x = 'loan', label='Count')\n",
    "## Majority has no Personal Loans"
   ]
  },
  {
   "cell_type": "code",
   "execution_count": 28,
   "metadata": {},
   "outputs": [
    {
     "data": {
      "text/plain": [
       "<matplotlib.axes._subplots.AxesSubplot at 0xbf711d0>"
      ]
     },
     "execution_count": 28,
     "metadata": {},
     "output_type": "execute_result"
    },
    {
     "data": {
      "image/png": "[encoded data removed]",
      "text/plain": [
       "<Figure size 432x288 with 1 Axes>"
      ]
     },
     "metadata": {
      "needs_background": "light"
     },
     "output_type": "display_data"
    }
   ],
   "source": [
    "sns.countplot(data=categoric, x = 'contact', label='Count')\n",
    "## Maority Cx were contacted via Cellular medium.."
   ]
  },
  {
   "cell_type": "code",
   "execution_count": 29,
   "metadata": {},
   "outputs": [
    {
     "data": {
      "text/plain": [
       "<matplotlib.axes._subplots.AxesSubplot at 0xbfc4c50>"
      ]
     },
     "execution_count": 29,
     "metadata": {},
     "output_type": "execute_result"
    },
    {
     "data": {
      "image/png": "[encoded data removed]",
      "text/plain": [
       "<Figure size 432x288 with 1 Axes>"
      ]
     },
     "metadata": {
      "needs_background": "light"
     },
     "output_type": "display_data"
    }
   ],
   "source": [
    "sns.countplot(data=categoric, x = 'month', label='Count')\n",
    "## Majority Cx were last contacted in month of MAY..."
   ]
  },
  {
   "cell_type": "code",
   "execution_count": 30,
   "metadata": {},
   "outputs": [
    {
     "data": {
      "text/plain": [
       "<matplotlib.axes._subplots.AxesSubplot at 0xc044cc0>"
      ]
     },
     "execution_count": 30,
     "metadata": {},
     "output_type": "execute_result"
    },
    {
     "data": {
      "image/png": "[encoded data removed]",
      "text/plain": [
       "<Figure size 432x288 with 1 Axes>"
      ]
     },
     "metadata": {
      "needs_background": "light"
     },
     "output_type": "display_data"
    }
   ],
   "source": [
    "sns.countplot(data=categoric, x = 'day_of_week', label='Count')\n",
    "## Cx are mostly contacted on Wednesdays..."
   ]
  },
  {
   "cell_type": "code",
   "execution_count": 31,
   "metadata": {},
   "outputs": [
    {
     "data": {
      "text/plain": [
       "<matplotlib.axes._subplots.AxesSubplot at 0xc0aa8d0>"
      ]
     },
     "execution_count": 31,
     "metadata": {},
     "output_type": "execute_result"
    },
    {
     "data": {
      "image/png": "[encoded data removed]",
      "text/plain": [
       "<Figure size 432x288 with 1 Axes>"
      ]
     },
     "metadata": {
      "needs_background": "light"
     },
     "output_type": "display_data"
    }
   ],
   "source": [
    "sns.countplot(data=categoric, x = 'poutcome', label='Count')\n",
    "## Succes rate is slightly higher compared to failure for a prev. conducted Marketing Campaign.."
   ]
  },
  {
   "cell_type": "code",
   "execution_count": 32,
   "metadata": {},
   "outputs": [
    {
     "data": {
      "image/png": "[encoded data removed]",
      "text/plain": [
       "<Figure size 720x720 with 2 Axes>"
      ]
     },
     "metadata": {
      "needs_background": "light"
     },
     "output_type": "display_data"
    }
   ],
   "source": [
    "## CONSIDERING THE NUMERIC DATASET:-\n",
    "# calculate correlation coefficients for all dataset\n",
    "\n",
    "correlations = numeric.corr()\n",
    "\n",
    "plt.figure(figsize=(10, 10))\n",
    "g = sns.heatmap(correlations, cbar = True, square = True, annot=True, fmt= '.2f', annot_kws={'size': 10})"
   ]
  },
  {
   "cell_type": "code",
   "execution_count": 33,
   "metadata": {},
   "outputs": [
    {
     "data": {
      "text/plain": [
       "<seaborn.axisgrid.JointGrid at 0xc4909e8>"
      ]
     },
     "execution_count": 33,
     "metadata": {},
     "output_type": "execute_result"
    },
    {
     "data": {
      "image/png": "[encoded data removed]",
      "text/plain": [
       "<Figure size 432x432 with 3 Axes>"
      ]
     },
     "metadata": {
      "needs_background": "light"
     },
     "output_type": "display_data"
    }
   ],
   "source": [
    "sns.jointplot(\"pdays\", \"previous\", data=numeric, kind=\"reg\")\n",
    "\n",
    "# Strong Neative Co"
   ]
  },
  {
   "cell_type": "code",
   "execution_count": 34,
   "metadata": {},
   "outputs": [
    {
     "data": {
      "text/plain": [
       "<seaborn.axisgrid.JointGrid at 0xc704e80>"
      ]
     },
     "execution_count": 34,
     "metadata": {},
     "output_type": "execute_result"
    },
    {
     "data": {
      "image/png": "[encoded data removed]",
      "text/plain": [
       "<Figure size 432x432 with 3 Axes>"
      ]
     },
     "metadata": {
      "needs_background": "light"
     },
     "output_type": "display_data"
    }
   ],
   "source": [
    "sns.jointplot(\"pdays\", \"emp.var.rate\", data=numeric, kind=\"reg\")\n",
    "\n",
    "# Moderate positive Correlation.."
   ]
  },
  {
   "cell_type": "code",
   "execution_count": 35,
   "metadata": {},
   "outputs": [
    {
     "data": {
      "text/plain": [
       "<seaborn.axisgrid.JointGrid at 0xe04acf8>"
      ]
     },
     "execution_count": 35,
     "metadata": {},
     "output_type": "execute_result"
    },
    {
     "data": {
      "image/png": "[encoded data removed]",
      "text/plain": [
       "<Figure size 432x432 with 3 Axes>"
      ]
     },
     "metadata": {
      "needs_background": "light"
     },
     "output_type": "display_data"
    }
   ],
   "source": [
    "sns.jointplot(\"pdays\", \"euribor3m\", data=numeric, kind=\"reg\")\n",
    "\n",
    "## Moderate positive correlation.."
   ]
  },
  {
   "cell_type": "code",
   "execution_count": 36,
   "metadata": {},
   "outputs": [],
   "source": [
    "\n",
    "## Moderate positive correlation.."
   ]
  },
  {
   "cell_type": "code",
   "execution_count": 37,
   "metadata": {},
   "outputs": [
    {
     "data": {
      "text/plain": [
       "<seaborn.axisgrid.JointGrid at 0xe61c2e8>"
      ]
     },
     "execution_count": 37,
     "metadata": {},
     "output_type": "execute_result"
    },
    {
     "data": {
      "image/png": "[encoded data removed]",
      "text/plain": [
       "<Figure size 432x432 with 3 Axes>"
      ]
     },
     "metadata": {
      "needs_background": "light"
     },
     "output_type": "display_data"
    }
   ],
   "source": [
    "sns.jointplot(\"previous\", \"emp.var.rate\", data=numeric, kind=\"reg\")\n",
    "# Strong negative correlation.."
   ]
  },
  {
   "cell_type": "code",
   "execution_count": 38,
   "metadata": {},
   "outputs": [
    {
     "data": {
      "text/plain": [
       "<seaborn.axisgrid.JointGrid at 0xeb937f0>"
      ]
     },
     "execution_count": 38,
     "metadata": {},
     "output_type": "execute_result"
    },
    {
     "data": {
      "image/png": "[encoded data removed]",
      "text/plain": [
       "<Figure size 432x432 with 3 Axes>"
      ]
     },
     "metadata": {
      "needs_background": "light"
     },
     "output_type": "display_data"
    }
   ],
   "source": [
    "sns.jointplot(\"previous\", \"euribor3m\", data=numeric, kind=\"reg\")\n",
    "\n",
    "# Strong negative correlation.."
   ]
  },
  {
   "cell_type": "code",
   "execution_count": 39,
   "metadata": {},
   "outputs": [
    {
     "data": {
      "text/plain": [
       "<seaborn.axisgrid.JointGrid at 0xed5f898>"
      ]
     },
     "execution_count": 39,
     "metadata": {},
     "output_type": "execute_result"
    },
    {
     "data": {
      "image/png": "[encoded data removed]",
      "text/plain": [
       "<Figure size 432x432 with 3 Axes>"
      ]
     },
     "metadata": {
      "needs_background": "light"
     },
     "output_type": "display_data"
    }
   ],
   "source": [
    "sns.jointplot(\"previous\", \"nr.employed\", data=numeric, kind=\"reg\")\n",
    "\n",
    "## Strong negative..."
   ]
  },
  {
   "cell_type": "code",
   "execution_count": 40,
   "metadata": {},
   "outputs": [
    {
     "data": {
      "text/plain": [
       "<seaborn.axisgrid.JointGrid at 0xfee12e8>"
      ]
     },
     "execution_count": 40,
     "metadata": {},
     "output_type": "execute_result"
    },
    {
     "data": {
      "image/png": "[encoded data removed]",
      "text/plain": [
       "<Figure size 432x432 with 3 Axes>"
      ]
     },
     "metadata": {
      "needs_background": "light"
     },
     "output_type": "display_data"
    }
   ],
   "source": [
    "sns.jointplot(\"cons.price.idx\", \"emp.var.rate\", data=numeric, kind=\"reg\")\n",
    "\n",
    "## Strong Positive Correlation..."
   ]
  },
  {
   "cell_type": "code",
   "execution_count": 41,
   "metadata": {},
   "outputs": [
    {
     "data": {
      "text/plain": [
       "<seaborn.axisgrid.JointGrid at 0x100099e8>"
      ]
     },
     "execution_count": 41,
     "metadata": {},
     "output_type": "execute_result"
    },
    {
     "data": {
      "image/png": "[encoded data removed]",
      "text/plain": [
       "<Figure size 432x432 with 3 Axes>"
      ]
     },
     "metadata": {
      "needs_background": "light"
     },
     "output_type": "display_data"
    }
   ],
   "source": [
    "sns.jointplot(\"cons.price.idx\", \"euribor3m\", data=numeric, kind=\"reg\")\n",
    "\n",
    "# Mild Positive.."
   ]
  },
  {
   "cell_type": "code",
   "execution_count": 42,
   "metadata": {},
   "outputs": [
    {
     "data": {
      "text/plain": [
       "<seaborn.axisgrid.JointGrid at 0x1016cd30>"
      ]
     },
     "execution_count": 42,
     "metadata": {},
     "output_type": "execute_result"
    },
    {
     "data": {
      "image/png": "[encoded data removed]",
      "text/plain": [
       "<Figure size 432x432 with 3 Axes>"
      ]
     },
     "metadata": {
      "needs_background": "light"
     },
     "output_type": "display_data"
    }
   ],
   "source": [
    "sns.jointplot(\"cons.price.idx\", \"nr.employed\", data=numeric, kind=\"reg\")\n",
    "\n",
    "# Mild Positive.."
   ]
  },
  {
   "cell_type": "code",
   "execution_count": 43,
   "metadata": {},
   "outputs": [
    {
     "data": {
      "text/plain": [
       "no     1802\n",
       "yes    1802\n",
       "Name: y, dtype: int64"
      ]
     },
     "execution_count": 43,
     "metadata": {},
     "output_type": "execute_result"
    }
   ],
   "source": [
    "## Attaching 0 or 1 to Outcome 'class' variable using map..\n",
    "df_sampled['y'].value_counts()"
   ]
  },
  {
   "cell_type": "code",
   "execution_count": 44,
   "metadata": {},
   "outputs": [],
   "source": [
    "df_sampled['y'] = df_sampled['y'].map({'yes':1, 'no':0})"
   ]
  },
  {
   "cell_type": "code",
   "execution_count": 45,
   "metadata": {},
   "outputs": [
    {
     "data": {
      "text/plain": [
       "265     40\n",
       "193     38\n",
       "128     32\n",
       "466     26\n",
       "245     23\n",
       "        ..\n",
       "972      1\n",
       "986      1\n",
       "996      1\n",
       "1028     1\n",
       "1563     1\n",
       "Name: duration, Length: 628, dtype: int64"
      ]
     },
     "execution_count": 45,
     "metadata": {},
     "output_type": "execute_result"
    }
   ],
   "source": [
    "df_sampled['duration'].value_counts() ## May not be included in Model.."
   ]
  },
  {
   "cell_type": "code",
   "execution_count": 46,
   "metadata": {},
   "outputs": [
    {
     "data": {
      "text/html": [
       "<div>\n",
       "<style scoped>\n",
       "    .dataframe tbody tr th:only-of-type {\n",
       "        vertical-align: middle;\n",
       "    }\n",
       "\n",
       "    .dataframe tbody tr th {\n",
       "        vertical-align: top;\n",
       "    }\n",
       "\n",
       "    .dataframe thead th {\n",
       "        text-align: right;\n",
       "    }\n",
       "</style>\n",
       "<table border=\"1\" class=\"dataframe\">\n",
       "  <thead>\n",
       "    <tr style=\"text-align: right;\">\n",
       "      <th></th>\n",
       "      <th>age</th>\n",
       "      <th>job</th>\n",
       "      <th>marital</th>\n",
       "      <th>education</th>\n",
       "      <th>default</th>\n",
       "      <th>housing</th>\n",
       "      <th>loan</th>\n",
       "      <th>contact</th>\n",
       "      <th>month</th>\n",
       "      <th>day_of_week</th>\n",
       "      <th>...</th>\n",
       "      <th>campaign</th>\n",
       "      <th>pdays</th>\n",
       "      <th>previous</th>\n",
       "      <th>poutcome</th>\n",
       "      <th>emp.var.rate</th>\n",
       "      <th>cons.price.idx</th>\n",
       "      <th>cons.conf.idx</th>\n",
       "      <th>euribor3m</th>\n",
       "      <th>nr.employed</th>\n",
       "      <th>y</th>\n",
       "    </tr>\n",
       "  </thead>\n",
       "  <tbody>\n",
       "    <tr>\n",
       "      <th>0</th>\n",
       "      <td>31</td>\n",
       "      <td>blue-collar</td>\n",
       "      <td>married</td>\n",
       "      <td>basic.6y</td>\n",
       "      <td>unknown</td>\n",
       "      <td>no</td>\n",
       "      <td>no</td>\n",
       "      <td>cellular</td>\n",
       "      <td>jul</td>\n",
       "      <td>mon</td>\n",
       "      <td>...</td>\n",
       "      <td>2</td>\n",
       "      <td>999</td>\n",
       "      <td>0</td>\n",
       "      <td>nonexistent</td>\n",
       "      <td>1.4</td>\n",
       "      <td>93.918</td>\n",
       "      <td>-42.7</td>\n",
       "      <td>4.960</td>\n",
       "      <td>5228.1</td>\n",
       "      <td>0</td>\n",
       "    </tr>\n",
       "    <tr>\n",
       "      <th>1</th>\n",
       "      <td>32</td>\n",
       "      <td>housemaid</td>\n",
       "      <td>single</td>\n",
       "      <td>university.degree</td>\n",
       "      <td>unknown</td>\n",
       "      <td>yes</td>\n",
       "      <td>no</td>\n",
       "      <td>cellular</td>\n",
       "      <td>jul</td>\n",
       "      <td>tue</td>\n",
       "      <td>...</td>\n",
       "      <td>4</td>\n",
       "      <td>999</td>\n",
       "      <td>0</td>\n",
       "      <td>nonexistent</td>\n",
       "      <td>1.4</td>\n",
       "      <td>93.918</td>\n",
       "      <td>-42.7</td>\n",
       "      <td>4.961</td>\n",
       "      <td>5228.1</td>\n",
       "      <td>0</td>\n",
       "    </tr>\n",
       "    <tr>\n",
       "      <th>2</th>\n",
       "      <td>26</td>\n",
       "      <td>admin.</td>\n",
       "      <td>married</td>\n",
       "      <td>high.school</td>\n",
       "      <td>no</td>\n",
       "      <td>yes</td>\n",
       "      <td>no</td>\n",
       "      <td>cellular</td>\n",
       "      <td>apr</td>\n",
       "      <td>mon</td>\n",
       "      <td>...</td>\n",
       "      <td>1</td>\n",
       "      <td>999</td>\n",
       "      <td>0</td>\n",
       "      <td>nonexistent</td>\n",
       "      <td>-1.8</td>\n",
       "      <td>93.075</td>\n",
       "      <td>-47.1</td>\n",
       "      <td>1.405</td>\n",
       "      <td>5099.1</td>\n",
       "      <td>0</td>\n",
       "    </tr>\n",
       "    <tr>\n",
       "      <th>3</th>\n",
       "      <td>44</td>\n",
       "      <td>blue-collar</td>\n",
       "      <td>married</td>\n",
       "      <td>basic.4y</td>\n",
       "      <td>unknown</td>\n",
       "      <td>no</td>\n",
       "      <td>no</td>\n",
       "      <td>cellular</td>\n",
       "      <td>may</td>\n",
       "      <td>fri</td>\n",
       "      <td>...</td>\n",
       "      <td>3</td>\n",
       "      <td>999</td>\n",
       "      <td>0</td>\n",
       "      <td>nonexistent</td>\n",
       "      <td>-1.8</td>\n",
       "      <td>92.893</td>\n",
       "      <td>-46.2</td>\n",
       "      <td>1.313</td>\n",
       "      <td>5099.1</td>\n",
       "      <td>0</td>\n",
       "    </tr>\n",
       "    <tr>\n",
       "      <th>4</th>\n",
       "      <td>32</td>\n",
       "      <td>technician</td>\n",
       "      <td>married</td>\n",
       "      <td>unknown</td>\n",
       "      <td>no</td>\n",
       "      <td>yes</td>\n",
       "      <td>no</td>\n",
       "      <td>cellular</td>\n",
       "      <td>jul</td>\n",
       "      <td>fri</td>\n",
       "      <td>...</td>\n",
       "      <td>2</td>\n",
       "      <td>999</td>\n",
       "      <td>0</td>\n",
       "      <td>nonexistent</td>\n",
       "      <td>1.4</td>\n",
       "      <td>93.918</td>\n",
       "      <td>-42.7</td>\n",
       "      <td>4.963</td>\n",
       "      <td>5228.1</td>\n",
       "      <td>0</td>\n",
       "    </tr>\n",
       "  </tbody>\n",
       "</table>\n",
       "<p>5 rows × 21 columns</p>\n",
       "</div>"
      ],
      "text/plain": [
       "   age          job  marital          education  default housing loan  \\\n",
       "0   31  blue-collar  married           basic.6y  unknown      no   no   \n",
       "1   32    housemaid   single  university.degree  unknown     yes   no   \n",
       "2   26       admin.  married        high.school       no     yes   no   \n",
       "3   44  blue-collar  married           basic.4y  unknown      no   no   \n",
       "4   32   technician  married            unknown       no     yes   no   \n",
       "\n",
       "    contact month day_of_week  ...  campaign  pdays  previous     poutcome  \\\n",
       "0  cellular   jul         mon  ...         2    999         0  nonexistent   \n",
       "1  cellular   jul         tue  ...         4    999         0  nonexistent   \n",
       "2  cellular   apr         mon  ...         1    999         0  nonexistent   \n",
       "3  cellular   may         fri  ...         3    999         0  nonexistent   \n",
       "4  cellular   jul         fri  ...         2    999         0  nonexistent   \n",
       "\n",
       "  emp.var.rate  cons.price.idx  cons.conf.idx  euribor3m  nr.employed  y  \n",
       "0          1.4          93.918          -42.7      4.960       5228.1  0  \n",
       "1          1.4          93.918          -42.7      4.961       5228.1  0  \n",
       "2         -1.8          93.075          -47.1      1.405       5099.1  0  \n",
       "3         -1.8          92.893          -46.2      1.313       5099.1  0  \n",
       "4          1.4          93.918          -42.7      4.963       5228.1  0  \n",
       "\n",
       "[5 rows x 21 columns]"
      ]
     },
     "execution_count": 46,
     "metadata": {},
     "output_type": "execute_result"
    }
   ],
   "source": [
    "df_sampled.head()"
   ]
  },
  {
   "cell_type": "code",
   "execution_count": 47,
   "metadata": {},
   "outputs": [],
   "source": [
    "## According to the Question/Domain Knowledge 'duration' column should be dropped before fitting into models:\n",
    "\n",
    "df_sampled=df_sampled.drop('duration', axis=1)"
   ]
  },
  {
   "cell_type": "code",
   "execution_count": 48,
   "metadata": {},
   "outputs": [
    {
     "data": {
      "text/plain": [
       "(3604, 20)"
      ]
     },
     "execution_count": 48,
     "metadata": {},
     "output_type": "execute_result"
    }
   ],
   "source": [
    "df_sampled.shape # 20 cols, duration dropped successfully.."
   ]
  },
  {
   "cell_type": "code",
   "execution_count": 49,
   "metadata": {},
   "outputs": [],
   "source": [
    "## Getting DUMMIES for Categorical Columns:-\n",
    "\n",
    "df_sampled=pd.get_dummies(df_sampled,drop_first=True)"
   ]
  },
  {
   "cell_type": "code",
   "execution_count": 50,
   "metadata": {},
   "outputs": [
    {
     "data": {
      "text/plain": [
       "(3604, 52)"
      ]
     },
     "execution_count": 50,
     "metadata": {},
     "output_type": "execute_result"
    }
   ],
   "source": [
    "df_sampled.shape ## From 20 columns we now have 52....So many columns may not compulsorily included in model.."
   ]
  },
  {
   "cell_type": "markdown",
   "metadata": {},
   "source": [
    "## 5. Split dataset into train and test (70:30) (5 MARKS) a. Are both train and test representative of the overall data? How would you ascertain this \n",
    "#  statistically? "
   ]
  },
  {
   "cell_type": "code",
   "execution_count": 51,
   "metadata": {},
   "outputs": [],
   "source": [
    "X =df_sampled.drop('y',axis=1) ## Dropping outcome variable\n",
    "y = df_sampled['y']"
   ]
  },
  {
   "cell_type": "code",
   "execution_count": 52,
   "metadata": {},
   "outputs": [
    {
     "data": {
      "text/html": [
       "<div>\n",
       "<style scoped>\n",
       "    .dataframe tbody tr th:only-of-type {\n",
       "        vertical-align: middle;\n",
       "    }\n",
       "\n",
       "    .dataframe tbody tr th {\n",
       "        vertical-align: top;\n",
       "    }\n",
       "\n",
       "    .dataframe thead th {\n",
       "        text-align: right;\n",
       "    }\n",
       "</style>\n",
       "<table border=\"1\" class=\"dataframe\">\n",
       "  <thead>\n",
       "    <tr style=\"text-align: right;\">\n",
       "      <th></th>\n",
       "      <th>age</th>\n",
       "      <th>campaign</th>\n",
       "      <th>pdays</th>\n",
       "      <th>previous</th>\n",
       "      <th>emp.var.rate</th>\n",
       "      <th>cons.price.idx</th>\n",
       "      <th>cons.conf.idx</th>\n",
       "      <th>euribor3m</th>\n",
       "      <th>nr.employed</th>\n",
       "      <th>job_blue-collar</th>\n",
       "      <th>...</th>\n",
       "      <th>month_may</th>\n",
       "      <th>month_nov</th>\n",
       "      <th>month_oct</th>\n",
       "      <th>month_sep</th>\n",
       "      <th>day_of_week_mon</th>\n",
       "      <th>day_of_week_thu</th>\n",
       "      <th>day_of_week_tue</th>\n",
       "      <th>day_of_week_wed</th>\n",
       "      <th>poutcome_nonexistent</th>\n",
       "      <th>poutcome_success</th>\n",
       "    </tr>\n",
       "  </thead>\n",
       "  <tbody>\n",
       "    <tr>\n",
       "      <th>0</th>\n",
       "      <td>31</td>\n",
       "      <td>2</td>\n",
       "      <td>999</td>\n",
       "      <td>0</td>\n",
       "      <td>1.4</td>\n",
       "      <td>93.918</td>\n",
       "      <td>-42.7</td>\n",
       "      <td>4.960</td>\n",
       "      <td>5228.1</td>\n",
       "      <td>1</td>\n",
       "      <td>...</td>\n",
       "      <td>0</td>\n",
       "      <td>0</td>\n",
       "      <td>0</td>\n",
       "      <td>0</td>\n",
       "      <td>1</td>\n",
       "      <td>0</td>\n",
       "      <td>0</td>\n",
       "      <td>0</td>\n",
       "      <td>1</td>\n",
       "      <td>0</td>\n",
       "    </tr>\n",
       "    <tr>\n",
       "      <th>1</th>\n",
       "      <td>32</td>\n",
       "      <td>4</td>\n",
       "      <td>999</td>\n",
       "      <td>0</td>\n",
       "      <td>1.4</td>\n",
       "      <td>93.918</td>\n",
       "      <td>-42.7</td>\n",
       "      <td>4.961</td>\n",
       "      <td>5228.1</td>\n",
       "      <td>0</td>\n",
       "      <td>...</td>\n",
       "      <td>0</td>\n",
       "      <td>0</td>\n",
       "      <td>0</td>\n",
       "      <td>0</td>\n",
       "      <td>0</td>\n",
       "      <td>0</td>\n",
       "      <td>1</td>\n",
       "      <td>0</td>\n",
       "      <td>1</td>\n",
       "      <td>0</td>\n",
       "    </tr>\n",
       "    <tr>\n",
       "      <th>2</th>\n",
       "      <td>26</td>\n",
       "      <td>1</td>\n",
       "      <td>999</td>\n",
       "      <td>0</td>\n",
       "      <td>-1.8</td>\n",
       "      <td>93.075</td>\n",
       "      <td>-47.1</td>\n",
       "      <td>1.405</td>\n",
       "      <td>5099.1</td>\n",
       "      <td>0</td>\n",
       "      <td>...</td>\n",
       "      <td>0</td>\n",
       "      <td>0</td>\n",
       "      <td>0</td>\n",
       "      <td>0</td>\n",
       "      <td>1</td>\n",
       "      <td>0</td>\n",
       "      <td>0</td>\n",
       "      <td>0</td>\n",
       "      <td>1</td>\n",
       "      <td>0</td>\n",
       "    </tr>\n",
       "    <tr>\n",
       "      <th>3</th>\n",
       "      <td>44</td>\n",
       "      <td>3</td>\n",
       "      <td>999</td>\n",
       "      <td>0</td>\n",
       "      <td>-1.8</td>\n",
       "      <td>92.893</td>\n",
       "      <td>-46.2</td>\n",
       "      <td>1.313</td>\n",
       "      <td>5099.1</td>\n",
       "      <td>1</td>\n",
       "      <td>...</td>\n",
       "      <td>1</td>\n",
       "      <td>0</td>\n",
       "      <td>0</td>\n",
       "      <td>0</td>\n",
       "      <td>0</td>\n",
       "      <td>0</td>\n",
       "      <td>0</td>\n",
       "      <td>0</td>\n",
       "      <td>1</td>\n",
       "      <td>0</td>\n",
       "    </tr>\n",
       "    <tr>\n",
       "      <th>4</th>\n",
       "      <td>32</td>\n",
       "      <td>2</td>\n",
       "      <td>999</td>\n",
       "      <td>0</td>\n",
       "      <td>1.4</td>\n",
       "      <td>93.918</td>\n",
       "      <td>-42.7</td>\n",
       "      <td>4.963</td>\n",
       "      <td>5228.1</td>\n",
       "      <td>0</td>\n",
       "      <td>...</td>\n",
       "      <td>0</td>\n",
       "      <td>0</td>\n",
       "      <td>0</td>\n",
       "      <td>0</td>\n",
       "      <td>0</td>\n",
       "      <td>0</td>\n",
       "      <td>0</td>\n",
       "      <td>0</td>\n",
       "      <td>1</td>\n",
       "      <td>0</td>\n",
       "    </tr>\n",
       "  </tbody>\n",
       "</table>\n",
       "<p>5 rows × 51 columns</p>\n",
       "</div>"
      ],
      "text/plain": [
       "   age  campaign  pdays  previous  emp.var.rate  cons.price.idx  \\\n",
       "0   31         2    999         0           1.4          93.918   \n",
       "1   32         4    999         0           1.4          93.918   \n",
       "2   26         1    999         0          -1.8          93.075   \n",
       "3   44         3    999         0          -1.8          92.893   \n",
       "4   32         2    999         0           1.4          93.918   \n",
       "\n",
       "   cons.conf.idx  euribor3m  nr.employed  job_blue-collar  ...  month_may  \\\n",
       "0          -42.7      4.960       5228.1                1  ...          0   \n",
       "1          -42.7      4.961       5228.1                0  ...          0   \n",
       "2          -47.1      1.405       5099.1                0  ...          0   \n",
       "3          -46.2      1.313       5099.1                1  ...          1   \n",
       "4          -42.7      4.963       5228.1                0  ...          0   \n",
       "\n",
       "   month_nov  month_oct  month_sep  day_of_week_mon  day_of_week_thu  \\\n",
       "0          0          0          0                1                0   \n",
       "1          0          0          0                0                0   \n",
       "2          0          0          0                1                0   \n",
       "3          0          0          0                0                0   \n",
       "4          0          0          0                0                0   \n",
       "\n",
       "   day_of_week_tue  day_of_week_wed  poutcome_nonexistent  poutcome_success  \n",
       "0                0                0                     1                 0  \n",
       "1                1                0                     1                 0  \n",
       "2                0                0                     1                 0  \n",
       "3                0                0                     1                 0  \n",
       "4                0                0                     1                 0  \n",
       "\n",
       "[5 rows x 51 columns]"
      ]
     },
     "execution_count": 52,
     "metadata": {},
     "output_type": "execute_result"
    }
   ],
   "source": [
    "X.head(5)"
   ]
  },
  {
   "cell_type": "code",
   "execution_count": 53,
   "metadata": {},
   "outputs": [
    {
     "data": {
      "text/plain": [
       "0    0\n",
       "1    0\n",
       "2    0\n",
       "3    0\n",
       "4    0\n",
       "Name: y, dtype: int64"
      ]
     },
     "execution_count": 53,
     "metadata": {},
     "output_type": "execute_result"
    }
   ],
   "source": [
    "y.head(5)"
   ]
  },
  {
   "cell_type": "code",
   "execution_count": 54,
   "metadata": {},
   "outputs": [],
   "source": [
    "from sklearn.model_selection import train_test_split"
   ]
  },
  {
   "cell_type": "code",
   "execution_count": 55,
   "metadata": {},
   "outputs": [],
   "source": [
    "X_train, X_test, y_train, y_test = train_test_split(X, y, test_size=0.30, random_state=1)"
   ]
  },
  {
   "cell_type": "code",
   "execution_count": 56,
   "metadata": {},
   "outputs": [
    {
     "data": {
      "text/html": [
       "<div>\n",
       "<style scoped>\n",
       "    .dataframe tbody tr th:only-of-type {\n",
       "        vertical-align: middle;\n",
       "    }\n",
       "\n",
       "    .dataframe tbody tr th {\n",
       "        vertical-align: top;\n",
       "    }\n",
       "\n",
       "    .dataframe thead th {\n",
       "        text-align: right;\n",
       "    }\n",
       "</style>\n",
       "<table border=\"1\" class=\"dataframe\">\n",
       "  <thead>\n",
       "    <tr style=\"text-align: right;\">\n",
       "      <th></th>\n",
       "      <th>age</th>\n",
       "      <th>campaign</th>\n",
       "      <th>pdays</th>\n",
       "      <th>previous</th>\n",
       "      <th>emp.var.rate</th>\n",
       "      <th>cons.price.idx</th>\n",
       "      <th>cons.conf.idx</th>\n",
       "      <th>euribor3m</th>\n",
       "      <th>nr.employed</th>\n",
       "      <th>job_blue-collar</th>\n",
       "      <th>...</th>\n",
       "      <th>month_may</th>\n",
       "      <th>month_nov</th>\n",
       "      <th>month_oct</th>\n",
       "      <th>month_sep</th>\n",
       "      <th>day_of_week_mon</th>\n",
       "      <th>day_of_week_thu</th>\n",
       "      <th>day_of_week_tue</th>\n",
       "      <th>day_of_week_wed</th>\n",
       "      <th>poutcome_nonexistent</th>\n",
       "      <th>poutcome_success</th>\n",
       "    </tr>\n",
       "  </thead>\n",
       "  <tbody>\n",
       "    <tr>\n",
       "      <th>count</th>\n",
       "      <td>3604.000000</td>\n",
       "      <td>3604.000000</td>\n",
       "      <td>3604.000000</td>\n",
       "      <td>3604.000000</td>\n",
       "      <td>3604.000000</td>\n",
       "      <td>3604.000000</td>\n",
       "      <td>3604.000000</td>\n",
       "      <td>3604.000000</td>\n",
       "      <td>3604.000000</td>\n",
       "      <td>3604.000000</td>\n",
       "      <td>...</td>\n",
       "      <td>3604.000000</td>\n",
       "      <td>3604.000000</td>\n",
       "      <td>3604.000000</td>\n",
       "      <td>3604.000000</td>\n",
       "      <td>3604.000000</td>\n",
       "      <td>3604.000000</td>\n",
       "      <td>3604.000000</td>\n",
       "      <td>3604.000000</td>\n",
       "      <td>3604.000000</td>\n",
       "      <td>3604.000000</td>\n",
       "    </tr>\n",
       "    <tr>\n",
       "      <th>mean</th>\n",
       "      <td>40.574362</td>\n",
       "      <td>2.312708</td>\n",
       "      <td>886.285516</td>\n",
       "      <td>0.308269</td>\n",
       "      <td>-0.512875</td>\n",
       "      <td>93.490193</td>\n",
       "      <td>-40.436265</td>\n",
       "      <td>2.930925</td>\n",
       "      <td>5133.720311</td>\n",
       "      <td>0.172031</td>\n",
       "      <td>...</td>\n",
       "      <td>0.278579</td>\n",
       "      <td>0.071032</td>\n",
       "      <td>0.049112</td>\n",
       "      <td>0.024140</td>\n",
       "      <td>0.207270</td>\n",
       "      <td>0.198113</td>\n",
       "      <td>0.183962</td>\n",
       "      <td>0.215871</td>\n",
       "      <td>0.781909</td>\n",
       "      <td>0.112098</td>\n",
       "    </tr>\n",
       "    <tr>\n",
       "      <th>std</th>\n",
       "      <td>12.410334</td>\n",
       "      <td>2.513940</td>\n",
       "      <td>315.077271</td>\n",
       "      <td>0.687809</td>\n",
       "      <td>1.711871</td>\n",
       "      <td>0.611853</td>\n",
       "      <td>5.317317</td>\n",
       "      <td>1.890472</td>\n",
       "      <td>86.853163</td>\n",
       "      <td>0.377460</td>\n",
       "      <td>...</td>\n",
       "      <td>0.448362</td>\n",
       "      <td>0.256914</td>\n",
       "      <td>0.216132</td>\n",
       "      <td>0.153505</td>\n",
       "      <td>0.405407</td>\n",
       "      <td>0.398633</td>\n",
       "      <td>0.387507</td>\n",
       "      <td>0.411482</td>\n",
       "      <td>0.413007</td>\n",
       "      <td>0.315530</td>\n",
       "    </tr>\n",
       "    <tr>\n",
       "      <th>min</th>\n",
       "      <td>18.000000</td>\n",
       "      <td>1.000000</td>\n",
       "      <td>1.000000</td>\n",
       "      <td>0.000000</td>\n",
       "      <td>-3.400000</td>\n",
       "      <td>92.201000</td>\n",
       "      <td>-50.800000</td>\n",
       "      <td>0.634000</td>\n",
       "      <td>4963.600000</td>\n",
       "      <td>0.000000</td>\n",
       "      <td>...</td>\n",
       "      <td>0.000000</td>\n",
       "      <td>0.000000</td>\n",
       "      <td>0.000000</td>\n",
       "      <td>0.000000</td>\n",
       "      <td>0.000000</td>\n",
       "      <td>0.000000</td>\n",
       "      <td>0.000000</td>\n",
       "      <td>0.000000</td>\n",
       "      <td>0.000000</td>\n",
       "      <td>0.000000</td>\n",
       "    </tr>\n",
       "    <tr>\n",
       "      <th>25%</th>\n",
       "      <td>31.000000</td>\n",
       "      <td>1.000000</td>\n",
       "      <td>999.000000</td>\n",
       "      <td>0.000000</td>\n",
       "      <td>-1.800000</td>\n",
       "      <td>92.963000</td>\n",
       "      <td>-46.200000</td>\n",
       "      <td>1.250000</td>\n",
       "      <td>5076.200000</td>\n",
       "      <td>0.000000</td>\n",
       "      <td>...</td>\n",
       "      <td>0.000000</td>\n",
       "      <td>0.000000</td>\n",
       "      <td>0.000000</td>\n",
       "      <td>0.000000</td>\n",
       "      <td>0.000000</td>\n",
       "      <td>0.000000</td>\n",
       "      <td>0.000000</td>\n",
       "      <td>0.000000</td>\n",
       "      <td>1.000000</td>\n",
       "      <td>0.000000</td>\n",
       "    </tr>\n",
       "    <tr>\n",
       "      <th>50%</th>\n",
       "      <td>38.000000</td>\n",
       "      <td>2.000000</td>\n",
       "      <td>999.000000</td>\n",
       "      <td>0.000000</td>\n",
       "      <td>-1.100000</td>\n",
       "      <td>93.444000</td>\n",
       "      <td>-41.800000</td>\n",
       "      <td>1.663000</td>\n",
       "      <td>5099.100000</td>\n",
       "      <td>0.000000</td>\n",
       "      <td>...</td>\n",
       "      <td>0.000000</td>\n",
       "      <td>0.000000</td>\n",
       "      <td>0.000000</td>\n",
       "      <td>0.000000</td>\n",
       "      <td>0.000000</td>\n",
       "      <td>0.000000</td>\n",
       "      <td>0.000000</td>\n",
       "      <td>0.000000</td>\n",
       "      <td>1.000000</td>\n",
       "      <td>0.000000</td>\n",
       "    </tr>\n",
       "    <tr>\n",
       "      <th>75%</th>\n",
       "      <td>48.000000</td>\n",
       "      <td>3.000000</td>\n",
       "      <td>999.000000</td>\n",
       "      <td>0.000000</td>\n",
       "      <td>1.400000</td>\n",
       "      <td>93.994000</td>\n",
       "      <td>-36.400000</td>\n",
       "      <td>4.959000</td>\n",
       "      <td>5228.100000</td>\n",
       "      <td>0.000000</td>\n",
       "      <td>...</td>\n",
       "      <td>1.000000</td>\n",
       "      <td>0.000000</td>\n",
       "      <td>0.000000</td>\n",
       "      <td>0.000000</td>\n",
       "      <td>0.000000</td>\n",
       "      <td>0.000000</td>\n",
       "      <td>0.000000</td>\n",
       "      <td>0.000000</td>\n",
       "      <td>1.000000</td>\n",
       "      <td>0.000000</td>\n",
       "    </tr>\n",
       "    <tr>\n",
       "      <th>max</th>\n",
       "      <td>85.000000</td>\n",
       "      <td>40.000000</td>\n",
       "      <td>999.000000</td>\n",
       "      <td>5.000000</td>\n",
       "      <td>1.400000</td>\n",
       "      <td>94.767000</td>\n",
       "      <td>-26.900000</td>\n",
       "      <td>5.000000</td>\n",
       "      <td>5228.100000</td>\n",
       "      <td>1.000000</td>\n",
       "      <td>...</td>\n",
       "      <td>1.000000</td>\n",
       "      <td>1.000000</td>\n",
       "      <td>1.000000</td>\n",
       "      <td>1.000000</td>\n",
       "      <td>1.000000</td>\n",
       "      <td>1.000000</td>\n",
       "      <td>1.000000</td>\n",
       "      <td>1.000000</td>\n",
       "      <td>1.000000</td>\n",
       "      <td>1.000000</td>\n",
       "    </tr>\n",
       "  </tbody>\n",
       "</table>\n",
       "<p>8 rows × 51 columns</p>\n",
       "</div>"
      ],
      "text/plain": [
       "               age     campaign        pdays     previous  emp.var.rate  \\\n",
       "count  3604.000000  3604.000000  3604.000000  3604.000000   3604.000000   \n",
       "mean     40.574362     2.312708   886.285516     0.308269     -0.512875   \n",
       "std      12.410334     2.513940   315.077271     0.687809      1.711871   \n",
       "min      18.000000     1.000000     1.000000     0.000000     -3.400000   \n",
       "25%      31.000000     1.000000   999.000000     0.000000     -1.800000   \n",
       "50%      38.000000     2.000000   999.000000     0.000000     -1.100000   \n",
       "75%      48.000000     3.000000   999.000000     0.000000      1.400000   \n",
       "max      85.000000    40.000000   999.000000     5.000000      1.400000   \n",
       "\n",
       "       cons.price.idx  cons.conf.idx    euribor3m  nr.employed  \\\n",
       "count     3604.000000    3604.000000  3604.000000  3604.000000   \n",
       "mean        93.490193     -40.436265     2.930925  5133.720311   \n",
       "std          0.611853       5.317317     1.890472    86.853163   \n",
       "min         92.201000     -50.800000     0.634000  4963.600000   \n",
       "25%         92.963000     -46.200000     1.250000  5076.200000   \n",
       "50%         93.444000     -41.800000     1.663000  5099.100000   \n",
       "75%         93.994000     -36.400000     4.959000  5228.100000   \n",
       "max         94.767000     -26.900000     5.000000  5228.100000   \n",
       "\n",
       "       job_blue-collar  ...    month_may    month_nov    month_oct  \\\n",
       "count      3604.000000  ...  3604.000000  3604.000000  3604.000000   \n",
       "mean          0.172031  ...     0.278579     0.071032     0.049112   \n",
       "std           0.377460  ...     0.448362     0.256914     0.216132   \n",
       "min           0.000000  ...     0.000000     0.000000     0.000000   \n",
       "25%           0.000000  ...     0.000000     0.000000     0.000000   \n",
       "50%           0.000000  ...     0.000000     0.000000     0.000000   \n",
       "75%           0.000000  ...     1.000000     0.000000     0.000000   \n",
       "max           1.000000  ...     1.000000     1.000000     1.000000   \n",
       "\n",
       "         month_sep  day_of_week_mon  day_of_week_thu  day_of_week_tue  \\\n",
       "count  3604.000000      3604.000000      3604.000000      3604.000000   \n",
       "mean      0.024140         0.207270         0.198113         0.183962   \n",
       "std       0.153505         0.405407         0.398633         0.387507   \n",
       "min       0.000000         0.000000         0.000000         0.000000   \n",
       "25%       0.000000         0.000000         0.000000         0.000000   \n",
       "50%       0.000000         0.000000         0.000000         0.000000   \n",
       "75%       0.000000         0.000000         0.000000         0.000000   \n",
       "max       1.000000         1.000000         1.000000         1.000000   \n",
       "\n",
       "       day_of_week_wed  poutcome_nonexistent  poutcome_success  \n",
       "count      3604.000000           3604.000000       3604.000000  \n",
       "mean          0.215871              0.781909          0.112098  \n",
       "std           0.411482              0.413007          0.315530  \n",
       "min           0.000000              0.000000          0.000000  \n",
       "25%           0.000000              1.000000          0.000000  \n",
       "50%           0.000000              1.000000          0.000000  \n",
       "75%           0.000000              1.000000          0.000000  \n",
       "max           1.000000              1.000000          1.000000  \n",
       "\n",
       "[8 rows x 51 columns]"
      ]
     },
     "execution_count": 56,
     "metadata": {},
     "output_type": "execute_result"
    }
   ],
   "source": [
    "X.describe()"
   ]
  },
  {
   "cell_type": "code",
   "execution_count": 57,
   "metadata": {},
   "outputs": [
    {
     "data": {
      "text/html": [
       "<div>\n",
       "<style scoped>\n",
       "    .dataframe tbody tr th:only-of-type {\n",
       "        vertical-align: middle;\n",
       "    }\n",
       "\n",
       "    .dataframe tbody tr th {\n",
       "        vertical-align: top;\n",
       "    }\n",
       "\n",
       "    .dataframe thead th {\n",
       "        text-align: right;\n",
       "    }\n",
       "</style>\n",
       "<table border=\"1\" class=\"dataframe\">\n",
       "  <thead>\n",
       "    <tr style=\"text-align: right;\">\n",
       "      <th></th>\n",
       "      <th>age</th>\n",
       "      <th>campaign</th>\n",
       "      <th>pdays</th>\n",
       "      <th>previous</th>\n",
       "      <th>emp.var.rate</th>\n",
       "      <th>cons.price.idx</th>\n",
       "      <th>cons.conf.idx</th>\n",
       "      <th>euribor3m</th>\n",
       "      <th>nr.employed</th>\n",
       "      <th>job_blue-collar</th>\n",
       "      <th>...</th>\n",
       "      <th>month_may</th>\n",
       "      <th>month_nov</th>\n",
       "      <th>month_oct</th>\n",
       "      <th>month_sep</th>\n",
       "      <th>day_of_week_mon</th>\n",
       "      <th>day_of_week_thu</th>\n",
       "      <th>day_of_week_tue</th>\n",
       "      <th>day_of_week_wed</th>\n",
       "      <th>poutcome_nonexistent</th>\n",
       "      <th>poutcome_success</th>\n",
       "    </tr>\n",
       "  </thead>\n",
       "  <tbody>\n",
       "    <tr>\n",
       "      <th>count</th>\n",
       "      <td>2522.000000</td>\n",
       "      <td>2522.000000</td>\n",
       "      <td>2522.000000</td>\n",
       "      <td>2522.000000</td>\n",
       "      <td>2522.000000</td>\n",
       "      <td>2522.000000</td>\n",
       "      <td>2522.000000</td>\n",
       "      <td>2522.000000</td>\n",
       "      <td>2522.000000</td>\n",
       "      <td>2522.000000</td>\n",
       "      <td>...</td>\n",
       "      <td>2522.000000</td>\n",
       "      <td>2522.000000</td>\n",
       "      <td>2522.000000</td>\n",
       "      <td>2522.000000</td>\n",
       "      <td>2522.000000</td>\n",
       "      <td>2522.000000</td>\n",
       "      <td>2522.000000</td>\n",
       "      <td>2522.000000</td>\n",
       "      <td>2522.000000</td>\n",
       "      <td>2522.000000</td>\n",
       "    </tr>\n",
       "    <tr>\n",
       "      <th>mean</th>\n",
       "      <td>40.438144</td>\n",
       "      <td>2.298176</td>\n",
       "      <td>883.230769</td>\n",
       "      <td>0.308089</td>\n",
       "      <td>-0.528351</td>\n",
       "      <td>93.491383</td>\n",
       "      <td>-40.448929</td>\n",
       "      <td>2.914437</td>\n",
       "      <td>5132.748573</td>\n",
       "      <td>0.167328</td>\n",
       "      <td>...</td>\n",
       "      <td>0.272799</td>\n",
       "      <td>0.072561</td>\n",
       "      <td>0.050753</td>\n",
       "      <td>0.024187</td>\n",
       "      <td>0.202617</td>\n",
       "      <td>0.199841</td>\n",
       "      <td>0.184774</td>\n",
       "      <td>0.213719</td>\n",
       "      <td>0.776764</td>\n",
       "      <td>0.114988</td>\n",
       "    </tr>\n",
       "    <tr>\n",
       "      <th>std</th>\n",
       "      <td>12.236186</td>\n",
       "      <td>2.479729</td>\n",
       "      <td>318.762002</td>\n",
       "      <td>0.676463</td>\n",
       "      <td>1.708889</td>\n",
       "      <td>0.612903</td>\n",
       "      <td>5.324912</td>\n",
       "      <td>1.891227</td>\n",
       "      <td>87.180984</td>\n",
       "      <td>0.373342</td>\n",
       "      <td>...</td>\n",
       "      <td>0.445487</td>\n",
       "      <td>0.259467</td>\n",
       "      <td>0.219537</td>\n",
       "      <td>0.153660</td>\n",
       "      <td>0.402029</td>\n",
       "      <td>0.399960</td>\n",
       "      <td>0.388191</td>\n",
       "      <td>0.410012</td>\n",
       "      <td>0.416498</td>\n",
       "      <td>0.319071</td>\n",
       "    </tr>\n",
       "    <tr>\n",
       "      <th>min</th>\n",
       "      <td>18.000000</td>\n",
       "      <td>1.000000</td>\n",
       "      <td>1.000000</td>\n",
       "      <td>0.000000</td>\n",
       "      <td>-3.400000</td>\n",
       "      <td>92.201000</td>\n",
       "      <td>-50.800000</td>\n",
       "      <td>0.634000</td>\n",
       "      <td>4963.600000</td>\n",
       "      <td>0.000000</td>\n",
       "      <td>...</td>\n",
       "      <td>0.000000</td>\n",
       "      <td>0.000000</td>\n",
       "      <td>0.000000</td>\n",
       "      <td>0.000000</td>\n",
       "      <td>0.000000</td>\n",
       "      <td>0.000000</td>\n",
       "      <td>0.000000</td>\n",
       "      <td>0.000000</td>\n",
       "      <td>0.000000</td>\n",
       "      <td>0.000000</td>\n",
       "    </tr>\n",
       "    <tr>\n",
       "      <th>25%</th>\n",
       "      <td>31.000000</td>\n",
       "      <td>1.000000</td>\n",
       "      <td>999.000000</td>\n",
       "      <td>0.000000</td>\n",
       "      <td>-1.800000</td>\n",
       "      <td>92.963000</td>\n",
       "      <td>-46.200000</td>\n",
       "      <td>1.250000</td>\n",
       "      <td>5076.200000</td>\n",
       "      <td>0.000000</td>\n",
       "      <td>...</td>\n",
       "      <td>0.000000</td>\n",
       "      <td>0.000000</td>\n",
       "      <td>0.000000</td>\n",
       "      <td>0.000000</td>\n",
       "      <td>0.000000</td>\n",
       "      <td>0.000000</td>\n",
       "      <td>0.000000</td>\n",
       "      <td>0.000000</td>\n",
       "      <td>1.000000</td>\n",
       "      <td>0.000000</td>\n",
       "    </tr>\n",
       "    <tr>\n",
       "      <th>50%</th>\n",
       "      <td>38.000000</td>\n",
       "      <td>2.000000</td>\n",
       "      <td>999.000000</td>\n",
       "      <td>0.000000</td>\n",
       "      <td>-1.100000</td>\n",
       "      <td>93.444000</td>\n",
       "      <td>-41.800000</td>\n",
       "      <td>1.556000</td>\n",
       "      <td>5099.100000</td>\n",
       "      <td>0.000000</td>\n",
       "      <td>...</td>\n",
       "      <td>0.000000</td>\n",
       "      <td>0.000000</td>\n",
       "      <td>0.000000</td>\n",
       "      <td>0.000000</td>\n",
       "      <td>0.000000</td>\n",
       "      <td>0.000000</td>\n",
       "      <td>0.000000</td>\n",
       "      <td>0.000000</td>\n",
       "      <td>1.000000</td>\n",
       "      <td>0.000000</td>\n",
       "    </tr>\n",
       "    <tr>\n",
       "      <th>75%</th>\n",
       "      <td>48.000000</td>\n",
       "      <td>3.000000</td>\n",
       "      <td>999.000000</td>\n",
       "      <td>0.000000</td>\n",
       "      <td>1.400000</td>\n",
       "      <td>93.994000</td>\n",
       "      <td>-36.400000</td>\n",
       "      <td>4.958000</td>\n",
       "      <td>5228.100000</td>\n",
       "      <td>0.000000</td>\n",
       "      <td>...</td>\n",
       "      <td>1.000000</td>\n",
       "      <td>0.000000</td>\n",
       "      <td>0.000000</td>\n",
       "      <td>0.000000</td>\n",
       "      <td>0.000000</td>\n",
       "      <td>0.000000</td>\n",
       "      <td>0.000000</td>\n",
       "      <td>0.000000</td>\n",
       "      <td>1.000000</td>\n",
       "      <td>0.000000</td>\n",
       "    </tr>\n",
       "    <tr>\n",
       "      <th>max</th>\n",
       "      <td>85.000000</td>\n",
       "      <td>40.000000</td>\n",
       "      <td>999.000000</td>\n",
       "      <td>5.000000</td>\n",
       "      <td>1.400000</td>\n",
       "      <td>94.767000</td>\n",
       "      <td>-26.900000</td>\n",
       "      <td>5.000000</td>\n",
       "      <td>5228.100000</td>\n",
       "      <td>1.000000</td>\n",
       "      <td>...</td>\n",
       "      <td>1.000000</td>\n",
       "      <td>1.000000</td>\n",
       "      <td>1.000000</td>\n",
       "      <td>1.000000</td>\n",
       "      <td>1.000000</td>\n",
       "      <td>1.000000</td>\n",
       "      <td>1.000000</td>\n",
       "      <td>1.000000</td>\n",
       "      <td>1.000000</td>\n",
       "      <td>1.000000</td>\n",
       "    </tr>\n",
       "  </tbody>\n",
       "</table>\n",
       "<p>8 rows × 51 columns</p>\n",
       "</div>"
      ],
      "text/plain": [
       "               age     campaign        pdays     previous  emp.var.rate  \\\n",
       "count  2522.000000  2522.000000  2522.000000  2522.000000   2522.000000   \n",
       "mean     40.438144     2.298176   883.230769     0.308089     -0.528351   \n",
       "std      12.236186     2.479729   318.762002     0.676463      1.708889   \n",
       "min      18.000000     1.000000     1.000000     0.000000     -3.400000   \n",
       "25%      31.000000     1.000000   999.000000     0.000000     -1.800000   \n",
       "50%      38.000000     2.000000   999.000000     0.000000     -1.100000   \n",
       "75%      48.000000     3.000000   999.000000     0.000000      1.400000   \n",
       "max      85.000000    40.000000   999.000000     5.000000      1.400000   \n",
       "\n",
       "       cons.price.idx  cons.conf.idx    euribor3m  nr.employed  \\\n",
       "count     2522.000000    2522.000000  2522.000000  2522.000000   \n",
       "mean        93.491383     -40.448929     2.914437  5132.748573   \n",
       "std          0.612903       5.324912     1.891227    87.180984   \n",
       "min         92.201000     -50.800000     0.634000  4963.600000   \n",
       "25%         92.963000     -46.200000     1.250000  5076.200000   \n",
       "50%         93.444000     -41.800000     1.556000  5099.100000   \n",
       "75%         93.994000     -36.400000     4.958000  5228.100000   \n",
       "max         94.767000     -26.900000     5.000000  5228.100000   \n",
       "\n",
       "       job_blue-collar  ...    month_may    month_nov    month_oct  \\\n",
       "count      2522.000000  ...  2522.000000  2522.000000  2522.000000   \n",
       "mean          0.167328  ...     0.272799     0.072561     0.050753   \n",
       "std           0.373342  ...     0.445487     0.259467     0.219537   \n",
       "min           0.000000  ...     0.000000     0.000000     0.000000   \n",
       "25%           0.000000  ...     0.000000     0.000000     0.000000   \n",
       "50%           0.000000  ...     0.000000     0.000000     0.000000   \n",
       "75%           0.000000  ...     1.000000     0.000000     0.000000   \n",
       "max           1.000000  ...     1.000000     1.000000     1.000000   \n",
       "\n",
       "         month_sep  day_of_week_mon  day_of_week_thu  day_of_week_tue  \\\n",
       "count  2522.000000      2522.000000      2522.000000      2522.000000   \n",
       "mean      0.024187         0.202617         0.199841         0.184774   \n",
       "std       0.153660         0.402029         0.399960         0.388191   \n",
       "min       0.000000         0.000000         0.000000         0.000000   \n",
       "25%       0.000000         0.000000         0.000000         0.000000   \n",
       "50%       0.000000         0.000000         0.000000         0.000000   \n",
       "75%       0.000000         0.000000         0.000000         0.000000   \n",
       "max       1.000000         1.000000         1.000000         1.000000   \n",
       "\n",
       "       day_of_week_wed  poutcome_nonexistent  poutcome_success  \n",
       "count      2522.000000           2522.000000       2522.000000  \n",
       "mean          0.213719              0.776764          0.114988  \n",
       "std           0.410012              0.416498          0.319071  \n",
       "min           0.000000              0.000000          0.000000  \n",
       "25%           0.000000              1.000000          0.000000  \n",
       "50%           0.000000              1.000000          0.000000  \n",
       "75%           0.000000              1.000000          0.000000  \n",
       "max           1.000000              1.000000          1.000000  \n",
       "\n",
       "[8 rows x 51 columns]"
      ]
     },
     "execution_count": 57,
     "metadata": {},
     "output_type": "execute_result"
    }
   ],
   "source": [
    "X_train.describe()"
   ]
  },
  {
   "cell_type": "code",
   "execution_count": 58,
   "metadata": {},
   "outputs": [
    {
     "data": {
      "text/html": [
       "<div>\n",
       "<style scoped>\n",
       "    .dataframe tbody tr th:only-of-type {\n",
       "        vertical-align: middle;\n",
       "    }\n",
       "\n",
       "    .dataframe tbody tr th {\n",
       "        vertical-align: top;\n",
       "    }\n",
       "\n",
       "    .dataframe thead th {\n",
       "        text-align: right;\n",
       "    }\n",
       "</style>\n",
       "<table border=\"1\" class=\"dataframe\">\n",
       "  <thead>\n",
       "    <tr style=\"text-align: right;\">\n",
       "      <th></th>\n",
       "      <th>age</th>\n",
       "      <th>campaign</th>\n",
       "      <th>pdays</th>\n",
       "      <th>previous</th>\n",
       "      <th>emp.var.rate</th>\n",
       "      <th>cons.price.idx</th>\n",
       "      <th>cons.conf.idx</th>\n",
       "      <th>euribor3m</th>\n",
       "      <th>nr.employed</th>\n",
       "      <th>job_blue-collar</th>\n",
       "      <th>...</th>\n",
       "      <th>month_may</th>\n",
       "      <th>month_nov</th>\n",
       "      <th>month_oct</th>\n",
       "      <th>month_sep</th>\n",
       "      <th>day_of_week_mon</th>\n",
       "      <th>day_of_week_thu</th>\n",
       "      <th>day_of_week_tue</th>\n",
       "      <th>day_of_week_wed</th>\n",
       "      <th>poutcome_nonexistent</th>\n",
       "      <th>poutcome_success</th>\n",
       "    </tr>\n",
       "  </thead>\n",
       "  <tbody>\n",
       "    <tr>\n",
       "      <th>count</th>\n",
       "      <td>1082.000000</td>\n",
       "      <td>1082.00000</td>\n",
       "      <td>1082.000000</td>\n",
       "      <td>1082.000000</td>\n",
       "      <td>1082.000000</td>\n",
       "      <td>1082.000000</td>\n",
       "      <td>1082.000000</td>\n",
       "      <td>1082.000000</td>\n",
       "      <td>1082.000000</td>\n",
       "      <td>1082.000000</td>\n",
       "      <td>...</td>\n",
       "      <td>1082.000000</td>\n",
       "      <td>1082.000000</td>\n",
       "      <td>1082.000000</td>\n",
       "      <td>1082.000000</td>\n",
       "      <td>1082.000000</td>\n",
       "      <td>1082.000000</td>\n",
       "      <td>1082.000000</td>\n",
       "      <td>1082.000000</td>\n",
       "      <td>1082.00000</td>\n",
       "      <td>1082.000000</td>\n",
       "    </tr>\n",
       "    <tr>\n",
       "      <th>mean</th>\n",
       "      <td>40.891867</td>\n",
       "      <td>2.34658</td>\n",
       "      <td>893.405730</td>\n",
       "      <td>0.308688</td>\n",
       "      <td>-0.476802</td>\n",
       "      <td>93.487418</td>\n",
       "      <td>-40.406747</td>\n",
       "      <td>2.969358</td>\n",
       "      <td>5135.985305</td>\n",
       "      <td>0.182994</td>\n",
       "      <td>...</td>\n",
       "      <td>0.292052</td>\n",
       "      <td>0.067468</td>\n",
       "      <td>0.045287</td>\n",
       "      <td>0.024030</td>\n",
       "      <td>0.218115</td>\n",
       "      <td>0.194085</td>\n",
       "      <td>0.182070</td>\n",
       "      <td>0.220887</td>\n",
       "      <td>0.79390</td>\n",
       "      <td>0.105360</td>\n",
       "    </tr>\n",
       "    <tr>\n",
       "      <th>std</th>\n",
       "      <td>12.807200</td>\n",
       "      <td>2.59278</td>\n",
       "      <td>306.343475</td>\n",
       "      <td>0.713876</td>\n",
       "      <td>1.719052</td>\n",
       "      <td>0.609673</td>\n",
       "      <td>5.301914</td>\n",
       "      <td>1.889026</td>\n",
       "      <td>86.081712</td>\n",
       "      <td>0.386841</td>\n",
       "      <td>...</td>\n",
       "      <td>0.454916</td>\n",
       "      <td>0.250946</td>\n",
       "      <td>0.208028</td>\n",
       "      <td>0.153212</td>\n",
       "      <td>0.413157</td>\n",
       "      <td>0.395678</td>\n",
       "      <td>0.386081</td>\n",
       "      <td>0.415036</td>\n",
       "      <td>0.40469</td>\n",
       "      <td>0.307159</td>\n",
       "    </tr>\n",
       "    <tr>\n",
       "      <th>min</th>\n",
       "      <td>18.000000</td>\n",
       "      <td>1.00000</td>\n",
       "      <td>1.000000</td>\n",
       "      <td>0.000000</td>\n",
       "      <td>-3.400000</td>\n",
       "      <td>92.201000</td>\n",
       "      <td>-50.800000</td>\n",
       "      <td>0.634000</td>\n",
       "      <td>4963.600000</td>\n",
       "      <td>0.000000</td>\n",
       "      <td>...</td>\n",
       "      <td>0.000000</td>\n",
       "      <td>0.000000</td>\n",
       "      <td>0.000000</td>\n",
       "      <td>0.000000</td>\n",
       "      <td>0.000000</td>\n",
       "      <td>0.000000</td>\n",
       "      <td>0.000000</td>\n",
       "      <td>0.000000</td>\n",
       "      <td>0.00000</td>\n",
       "      <td>0.000000</td>\n",
       "    </tr>\n",
       "    <tr>\n",
       "      <th>25%</th>\n",
       "      <td>31.000000</td>\n",
       "      <td>1.00000</td>\n",
       "      <td>999.000000</td>\n",
       "      <td>0.000000</td>\n",
       "      <td>-1.800000</td>\n",
       "      <td>92.963000</td>\n",
       "      <td>-46.200000</td>\n",
       "      <td>1.260000</td>\n",
       "      <td>5076.200000</td>\n",
       "      <td>0.000000</td>\n",
       "      <td>...</td>\n",
       "      <td>0.000000</td>\n",
       "      <td>0.000000</td>\n",
       "      <td>0.000000</td>\n",
       "      <td>0.000000</td>\n",
       "      <td>0.000000</td>\n",
       "      <td>0.000000</td>\n",
       "      <td>0.000000</td>\n",
       "      <td>0.000000</td>\n",
       "      <td>1.00000</td>\n",
       "      <td>0.000000</td>\n",
       "    </tr>\n",
       "    <tr>\n",
       "      <th>50%</th>\n",
       "      <td>38.000000</td>\n",
       "      <td>2.00000</td>\n",
       "      <td>999.000000</td>\n",
       "      <td>0.000000</td>\n",
       "      <td>-1.100000</td>\n",
       "      <td>93.444000</td>\n",
       "      <td>-41.800000</td>\n",
       "      <td>1.811000</td>\n",
       "      <td>5099.100000</td>\n",
       "      <td>0.000000</td>\n",
       "      <td>...</td>\n",
       "      <td>0.000000</td>\n",
       "      <td>0.000000</td>\n",
       "      <td>0.000000</td>\n",
       "      <td>0.000000</td>\n",
       "      <td>0.000000</td>\n",
       "      <td>0.000000</td>\n",
       "      <td>0.000000</td>\n",
       "      <td>0.000000</td>\n",
       "      <td>1.00000</td>\n",
       "      <td>0.000000</td>\n",
       "    </tr>\n",
       "    <tr>\n",
       "      <th>75%</th>\n",
       "      <td>49.000000</td>\n",
       "      <td>3.00000</td>\n",
       "      <td>999.000000</td>\n",
       "      <td>0.000000</td>\n",
       "      <td>1.400000</td>\n",
       "      <td>93.994000</td>\n",
       "      <td>-36.400000</td>\n",
       "      <td>4.959000</td>\n",
       "      <td>5228.100000</td>\n",
       "      <td>0.000000</td>\n",
       "      <td>...</td>\n",
       "      <td>1.000000</td>\n",
       "      <td>0.000000</td>\n",
       "      <td>0.000000</td>\n",
       "      <td>0.000000</td>\n",
       "      <td>0.000000</td>\n",
       "      <td>0.000000</td>\n",
       "      <td>0.000000</td>\n",
       "      <td>0.000000</td>\n",
       "      <td>1.00000</td>\n",
       "      <td>0.000000</td>\n",
       "    </tr>\n",
       "    <tr>\n",
       "      <th>max</th>\n",
       "      <td>81.000000</td>\n",
       "      <td>35.00000</td>\n",
       "      <td>999.000000</td>\n",
       "      <td>5.000000</td>\n",
       "      <td>1.400000</td>\n",
       "      <td>94.767000</td>\n",
       "      <td>-26.900000</td>\n",
       "      <td>5.000000</td>\n",
       "      <td>5228.100000</td>\n",
       "      <td>1.000000</td>\n",
       "      <td>...</td>\n",
       "      <td>1.000000</td>\n",
       "      <td>1.000000</td>\n",
       "      <td>1.000000</td>\n",
       "      <td>1.000000</td>\n",
       "      <td>1.000000</td>\n",
       "      <td>1.000000</td>\n",
       "      <td>1.000000</td>\n",
       "      <td>1.000000</td>\n",
       "      <td>1.00000</td>\n",
       "      <td>1.000000</td>\n",
       "    </tr>\n",
       "  </tbody>\n",
       "</table>\n",
       "<p>8 rows × 51 columns</p>\n",
       "</div>"
      ],
      "text/plain": [
       "               age    campaign        pdays     previous  emp.var.rate  \\\n",
       "count  1082.000000  1082.00000  1082.000000  1082.000000   1082.000000   \n",
       "mean     40.891867     2.34658   893.405730     0.308688     -0.476802   \n",
       "std      12.807200     2.59278   306.343475     0.713876      1.719052   \n",
       "min      18.000000     1.00000     1.000000     0.000000     -3.400000   \n",
       "25%      31.000000     1.00000   999.000000     0.000000     -1.800000   \n",
       "50%      38.000000     2.00000   999.000000     0.000000     -1.100000   \n",
       "75%      49.000000     3.00000   999.000000     0.000000      1.400000   \n",
       "max      81.000000    35.00000   999.000000     5.000000      1.400000   \n",
       "\n",
       "       cons.price.idx  cons.conf.idx    euribor3m  nr.employed  \\\n",
       "count     1082.000000    1082.000000  1082.000000  1082.000000   \n",
       "mean        93.487418     -40.406747     2.969358  5135.985305   \n",
       "std          0.609673       5.301914     1.889026    86.081712   \n",
       "min         92.201000     -50.800000     0.634000  4963.600000   \n",
       "25%         92.963000     -46.200000     1.260000  5076.200000   \n",
       "50%         93.444000     -41.800000     1.811000  5099.100000   \n",
       "75%         93.994000     -36.400000     4.959000  5228.100000   \n",
       "max         94.767000     -26.900000     5.000000  5228.100000   \n",
       "\n",
       "       job_blue-collar  ...    month_may    month_nov    month_oct  \\\n",
       "count      1082.000000  ...  1082.000000  1082.000000  1082.000000   \n",
       "mean          0.182994  ...     0.292052     0.067468     0.045287   \n",
       "std           0.386841  ...     0.454916     0.250946     0.208028   \n",
       "min           0.000000  ...     0.000000     0.000000     0.000000   \n",
       "25%           0.000000  ...     0.000000     0.000000     0.000000   \n",
       "50%           0.000000  ...     0.000000     0.000000     0.000000   \n",
       "75%           0.000000  ...     1.000000     0.000000     0.000000   \n",
       "max           1.000000  ...     1.000000     1.000000     1.000000   \n",
       "\n",
       "         month_sep  day_of_week_mon  day_of_week_thu  day_of_week_tue  \\\n",
       "count  1082.000000      1082.000000      1082.000000      1082.000000   \n",
       "mean      0.024030         0.218115         0.194085         0.182070   \n",
       "std       0.153212         0.413157         0.395678         0.386081   \n",
       "min       0.000000         0.000000         0.000000         0.000000   \n",
       "25%       0.000000         0.000000         0.000000         0.000000   \n",
       "50%       0.000000         0.000000         0.000000         0.000000   \n",
       "75%       0.000000         0.000000         0.000000         0.000000   \n",
       "max       1.000000         1.000000         1.000000         1.000000   \n",
       "\n",
       "       day_of_week_wed  poutcome_nonexistent  poutcome_success  \n",
       "count      1082.000000            1082.00000       1082.000000  \n",
       "mean          0.220887               0.79390          0.105360  \n",
       "std           0.415036               0.40469          0.307159  \n",
       "min           0.000000               0.00000          0.000000  \n",
       "25%           0.000000               1.00000          0.000000  \n",
       "50%           0.000000               1.00000          0.000000  \n",
       "75%           0.000000               1.00000          0.000000  \n",
       "max           1.000000               1.00000          1.000000  \n",
       "\n",
       "[8 rows x 51 columns]"
      ]
     },
     "execution_count": 58,
     "metadata": {},
     "output_type": "execute_result"
    }
   ],
   "source": [
    "X_test.describe()"
   ]
  },
  {
   "cell_type": "markdown",
   "metadata": {},
   "source": [
    "## To determine wether Test Train is correct representative of overall Data we may compare the respective means of Train test etc..\n",
    "## For correct representations the mean values should be approximately same or close to each other"
   ]
  },
  {
   "cell_type": "markdown",
   "metadata": {},
   "source": [
    "## 6. Fit a base model and explain the reason of selecting that model. Please write your key observations.\n",
    "#  a.    What is the overall Accuracy? Please comment on whether it is good or not. \n"
   ]
  },
  {
   "cell_type": "code",
   "execution_count": 59,
   "metadata": {},
   "outputs": [
    {
     "name": "stdout",
     "output_type": "stream",
     "text": [
      "Logistic Regression Training Score: \n",
      " 75.89\n",
      "Logistic Regression Test Score: \n",
      " 75.6\n",
      "Coefficient: \n",
      " [[ 0.0019282  -0.06977583 -0.00225184 -0.33820198 -0.1604913   0.50850392\n",
      "   0.0121399  -0.12223925 -0.00864903 -0.33990192  0.05990017 -0.11267327\n",
      "  -0.07079198  0.11098132 -0.02181067 -0.19247142  0.02439618 -0.05120786\n",
      "  -0.02946117 -0.00508165 -0.28392557  0.18284866 -0.01073416  0.01336372\n",
      "  -0.03296326  0.17526194  0.          0.09411222  0.02421669 -0.08971944\n",
      "  -0.28690848 -0.04782346  0.17717229 -0.04782346  0.08608492 -0.26197879\n",
      "   0.08006104  0.03084231  0.36552586  0.0582233   0.18027475 -0.61839251\n",
      "  -0.32331341  0.18408144 -0.04047847  0.17009086 -0.09093242 -0.11833837\n",
      "   0.08311179  0.24242053  0.03351631]]\n",
      "Intercept: \n",
      " [0.00360617]\n",
      "Accuracy: \n",
      " 0.756007393715342\n"
     ]
    },
    {
     "name": "stderr",
     "output_type": "stream",
     "text": [
      "F:\\anaconda\\lib\\site-packages\\sklearn\\linear_model\\_logistic.py:764: ConvergenceWarning: lbfgs failed to converge (status=1):\n",
      "STOP: TOTAL NO. of ITERATIONS REACHED LIMIT.\n",
      "\n",
      "Increase the number of iterations (max_iter) or scale the data as shown in:\n",
      "    https://scikit-learn.org/stable/modules/preprocessing.html\n",
      "Please also refer to the documentation for alternative solver options:\n",
      "    https://scikit-learn.org/stable/modules/linear_model.html#logistic-regression\n",
      "  extra_warning_msg=_LOGISTIC_SOLVER_CONVERGENCE_MSG)\n"
     ]
    }
   ],
   "source": [
    "## Base Model:-\n",
    "\n",
    "from sklearn.linear_model import LogisticRegression\n",
    "\n",
    "from sklearn.metrics import accuracy_score\n",
    "from sklearn.metrics import classification_report,confusion_matrix\n",
    "from sklearn import linear_model\n",
    "\n",
    "# Create logistic regression object\n",
    "logreg = LogisticRegression()\n",
    "# Train the model using the training sets and check score\n",
    "logreg.fit(X_train, y_train)\n",
    "#Predict Output\n",
    "log_predicted= logreg.predict(X_test)\n",
    "\n",
    "logreg_score = round(logreg.score(X_train, y_train) * 100, 2)\n",
    "logreg_score_test = round(logreg.score(X_test, y_test) * 100, 2)\n",
    "#Equation coefficient and Intercept\n",
    "print('Logistic Regression Training Score: \\n', logreg_score)\n",
    "print('Logistic Regression Test Score: \\n', logreg_score_test)\n",
    "print('Coefficient: \\n', logreg.coef_)\n",
    "print('Intercept: \\n', logreg.intercept_)\n",
    "print('Accuracy: \\n', accuracy_score(y_test,log_predicted))"
   ]
  },
  {
   "cell_type": "code",
   "execution_count": 60,
   "metadata": {},
   "outputs": [],
   "source": [
    "## Here we can see the overall acc = 76.340% which is not a good score hence Model Parameters need to be altered...."
   ]
  },
  {
   "cell_type": "markdown",
   "metadata": {},
   "source": [
    "## b.    What is Precision, Recall and F1 Score and what will be the optimization objective keeping in mind the problem statement."
   ]
  },
  {
   "cell_type": "code",
   "execution_count": 61,
   "metadata": {},
   "outputs": [
    {
     "name": "stdout",
     "output_type": "stream",
     "text": [
      "Classification Report: \n",
      "               precision    recall  f1-score   support\n",
      "\n",
      "           0       0.73      0.84      0.78       553\n",
      "           1       0.80      0.67      0.73       529\n",
      "\n",
      "    accuracy                           0.76      1082\n",
      "   macro avg       0.76      0.75      0.75      1082\n",
      "weighted avg       0.76      0.76      0.75      1082\n",
      "\n"
     ]
    }
   ],
   "source": [
    "print('Classification Report: \\n', classification_report(y_test,log_predicted))"
   ]
  },
  {
   "cell_type": "markdown",
   "metadata": {},
   "source": [
    "## c.    Which variables are significant?"
   ]
  },
  {
   "cell_type": "code",
   "execution_count": 62,
   "metadata": {},
   "outputs": [
    {
     "data": {
      "text/html": [
       "<div>\n",
       "<style scoped>\n",
       "    .dataframe tbody tr th:only-of-type {\n",
       "        vertical-align: middle;\n",
       "    }\n",
       "\n",
       "    .dataframe tbody tr th {\n",
       "        vertical-align: top;\n",
       "    }\n",
       "\n",
       "    .dataframe thead th {\n",
       "        text-align: right;\n",
       "    }\n",
       "</style>\n",
       "<table border=\"1\" class=\"dataframe\">\n",
       "  <thead>\n",
       "    <tr style=\"text-align: right;\">\n",
       "      <th></th>\n",
       "      <th>Feature</th>\n",
       "      <th>Correlation</th>\n",
       "    </tr>\n",
       "  </thead>\n",
       "  <tbody>\n",
       "    <tr>\n",
       "      <th>5</th>\n",
       "      <td>cons.price.idx</td>\n",
       "      <td>0.508504</td>\n",
       "    </tr>\n",
       "    <tr>\n",
       "      <th>38</th>\n",
       "      <td>month_dec</td>\n",
       "      <td>0.365526</td>\n",
       "    </tr>\n",
       "    <tr>\n",
       "      <th>49</th>\n",
       "      <td>day_of_week_wed</td>\n",
       "      <td>0.242421</td>\n",
       "    </tr>\n",
       "    <tr>\n",
       "      <th>43</th>\n",
       "      <td>month_nov</td>\n",
       "      <td>0.184081</td>\n",
       "    </tr>\n",
       "    <tr>\n",
       "      <th>21</th>\n",
       "      <td>marital_married</td>\n",
       "      <td>0.182849</td>\n",
       "    </tr>\n",
       "    <tr>\n",
       "      <th>40</th>\n",
       "      <td>month_jun</td>\n",
       "      <td>0.180275</td>\n",
       "    </tr>\n",
       "    <tr>\n",
       "      <th>32</th>\n",
       "      <td>housing_unknown</td>\n",
       "      <td>0.177172</td>\n",
       "    </tr>\n",
       "    <tr>\n",
       "      <th>25</th>\n",
       "      <td>education_basic.9y</td>\n",
       "      <td>0.175262</td>\n",
       "    </tr>\n",
       "    <tr>\n",
       "      <th>45</th>\n",
       "      <td>month_sep</td>\n",
       "      <td>0.170091</td>\n",
       "    </tr>\n",
       "    <tr>\n",
       "      <th>13</th>\n",
       "      <td>job_management</td>\n",
       "      <td>0.110981</td>\n",
       "    </tr>\n",
       "    <tr>\n",
       "      <th>27</th>\n",
       "      <td>education_illiterate</td>\n",
       "      <td>0.094112</td>\n",
       "    </tr>\n",
       "    <tr>\n",
       "      <th>34</th>\n",
       "      <td>loan_unknown</td>\n",
       "      <td>0.086085</td>\n",
       "    </tr>\n",
       "    <tr>\n",
       "      <th>48</th>\n",
       "      <td>day_of_week_tue</td>\n",
       "      <td>0.083112</td>\n",
       "    </tr>\n",
       "    <tr>\n",
       "      <th>36</th>\n",
       "      <td>contact_telephone</td>\n",
       "      <td>0.080061</td>\n",
       "    </tr>\n",
       "    <tr>\n",
       "      <th>10</th>\n",
       "      <td>job_blue-collar</td>\n",
       "      <td>0.059900</td>\n",
       "    </tr>\n",
       "    <tr>\n",
       "      <th>39</th>\n",
       "      <td>month_jul</td>\n",
       "      <td>0.058223</td>\n",
       "    </tr>\n",
       "    <tr>\n",
       "      <th>50</th>\n",
       "      <td>poutcome_nonexistent</td>\n",
       "      <td>0.033516</td>\n",
       "    </tr>\n",
       "    <tr>\n",
       "      <th>37</th>\n",
       "      <td>month_aug</td>\n",
       "      <td>0.030842</td>\n",
       "    </tr>\n",
       "    <tr>\n",
       "      <th>16</th>\n",
       "      <td>job_services</td>\n",
       "      <td>0.024396</td>\n",
       "    </tr>\n",
       "    <tr>\n",
       "      <th>28</th>\n",
       "      <td>education_professional.course</td>\n",
       "      <td>0.024217</td>\n",
       "    </tr>\n",
       "    <tr>\n",
       "      <th>23</th>\n",
       "      <td>marital_unknown</td>\n",
       "      <td>0.013364</td>\n",
       "    </tr>\n",
       "    <tr>\n",
       "      <th>6</th>\n",
       "      <td>cons.conf.idx</td>\n",
       "      <td>0.012140</td>\n",
       "    </tr>\n",
       "    <tr>\n",
       "      <th>0</th>\n",
       "      <td>age</td>\n",
       "      <td>0.001928</td>\n",
       "    </tr>\n",
       "    <tr>\n",
       "      <th>26</th>\n",
       "      <td>education_high.school</td>\n",
       "      <td>0.000000</td>\n",
       "    </tr>\n",
       "    <tr>\n",
       "      <th>2</th>\n",
       "      <td>pdays</td>\n",
       "      <td>-0.002252</td>\n",
       "    </tr>\n",
       "    <tr>\n",
       "      <th>19</th>\n",
       "      <td>job_unemployed</td>\n",
       "      <td>-0.005082</td>\n",
       "    </tr>\n",
       "    <tr>\n",
       "      <th>8</th>\n",
       "      <td>nr.employed</td>\n",
       "      <td>-0.008649</td>\n",
       "    </tr>\n",
       "    <tr>\n",
       "      <th>22</th>\n",
       "      <td>marital_single</td>\n",
       "      <td>-0.010734</td>\n",
       "    </tr>\n",
       "    <tr>\n",
       "      <th>14</th>\n",
       "      <td>job_retired</td>\n",
       "      <td>-0.021811</td>\n",
       "    </tr>\n",
       "    <tr>\n",
       "      <th>18</th>\n",
       "      <td>job_technician</td>\n",
       "      <td>-0.029461</td>\n",
       "    </tr>\n",
       "    <tr>\n",
       "      <th>24</th>\n",
       "      <td>education_basic.6y</td>\n",
       "      <td>-0.032963</td>\n",
       "    </tr>\n",
       "    <tr>\n",
       "      <th>44</th>\n",
       "      <td>month_oct</td>\n",
       "      <td>-0.040478</td>\n",
       "    </tr>\n",
       "    <tr>\n",
       "      <th>31</th>\n",
       "      <td>default_unknown</td>\n",
       "      <td>-0.047823</td>\n",
       "    </tr>\n",
       "    <tr>\n",
       "      <th>33</th>\n",
       "      <td>housing_yes</td>\n",
       "      <td>-0.047823</td>\n",
       "    </tr>\n",
       "    <tr>\n",
       "      <th>17</th>\n",
       "      <td>job_student</td>\n",
       "      <td>-0.051208</td>\n",
       "    </tr>\n",
       "    <tr>\n",
       "      <th>1</th>\n",
       "      <td>campaign</td>\n",
       "      <td>-0.069776</td>\n",
       "    </tr>\n",
       "    <tr>\n",
       "      <th>12</th>\n",
       "      <td>job_housemaid</td>\n",
       "      <td>-0.070792</td>\n",
       "    </tr>\n",
       "    <tr>\n",
       "      <th>29</th>\n",
       "      <td>education_university.degree</td>\n",
       "      <td>-0.089719</td>\n",
       "    </tr>\n",
       "    <tr>\n",
       "      <th>46</th>\n",
       "      <td>day_of_week_mon</td>\n",
       "      <td>-0.090932</td>\n",
       "    </tr>\n",
       "    <tr>\n",
       "      <th>11</th>\n",
       "      <td>job_entrepreneur</td>\n",
       "      <td>-0.112673</td>\n",
       "    </tr>\n",
       "    <tr>\n",
       "      <th>47</th>\n",
       "      <td>day_of_week_thu</td>\n",
       "      <td>-0.118338</td>\n",
       "    </tr>\n",
       "    <tr>\n",
       "      <th>7</th>\n",
       "      <td>euribor3m</td>\n",
       "      <td>-0.122239</td>\n",
       "    </tr>\n",
       "    <tr>\n",
       "      <th>4</th>\n",
       "      <td>emp.var.rate</td>\n",
       "      <td>-0.160491</td>\n",
       "    </tr>\n",
       "    <tr>\n",
       "      <th>15</th>\n",
       "      <td>job_self-employed</td>\n",
       "      <td>-0.192471</td>\n",
       "    </tr>\n",
       "    <tr>\n",
       "      <th>35</th>\n",
       "      <td>loan_yes</td>\n",
       "      <td>-0.261979</td>\n",
       "    </tr>\n",
       "    <tr>\n",
       "      <th>20</th>\n",
       "      <td>job_unknown</td>\n",
       "      <td>-0.283926</td>\n",
       "    </tr>\n",
       "    <tr>\n",
       "      <th>30</th>\n",
       "      <td>education_unknown</td>\n",
       "      <td>-0.286908</td>\n",
       "    </tr>\n",
       "    <tr>\n",
       "      <th>42</th>\n",
       "      <td>month_may</td>\n",
       "      <td>-0.323313</td>\n",
       "    </tr>\n",
       "    <tr>\n",
       "      <th>3</th>\n",
       "      <td>previous</td>\n",
       "      <td>-0.338202</td>\n",
       "    </tr>\n",
       "    <tr>\n",
       "      <th>9</th>\n",
       "      <td>y</td>\n",
       "      <td>-0.339902</td>\n",
       "    </tr>\n",
       "    <tr>\n",
       "      <th>41</th>\n",
       "      <td>month_mar</td>\n",
       "      <td>-0.618393</td>\n",
       "    </tr>\n",
       "    <tr>\n",
       "      <th>51</th>\n",
       "      <td>poutcome_success</td>\n",
       "      <td>NaN</td>\n",
       "    </tr>\n",
       "  </tbody>\n",
       "</table>\n",
       "</div>"
      ],
      "text/plain": [
       "                          Feature  Correlation\n",
       "5                  cons.price.idx     0.508504\n",
       "38                      month_dec     0.365526\n",
       "49                day_of_week_wed     0.242421\n",
       "43                      month_nov     0.184081\n",
       "21                marital_married     0.182849\n",
       "40                      month_jun     0.180275\n",
       "32                housing_unknown     0.177172\n",
       "25             education_basic.9y     0.175262\n",
       "45                      month_sep     0.170091\n",
       "13                 job_management     0.110981\n",
       "27           education_illiterate     0.094112\n",
       "34                   loan_unknown     0.086085\n",
       "48                day_of_week_tue     0.083112\n",
       "36              contact_telephone     0.080061\n",
       "10                job_blue-collar     0.059900\n",
       "39                      month_jul     0.058223\n",
       "50           poutcome_nonexistent     0.033516\n",
       "37                      month_aug     0.030842\n",
       "16                   job_services     0.024396\n",
       "28  education_professional.course     0.024217\n",
       "23                marital_unknown     0.013364\n",
       "6                   cons.conf.idx     0.012140\n",
       "0                             age     0.001928\n",
       "26          education_high.school     0.000000\n",
       "2                           pdays    -0.002252\n",
       "19                 job_unemployed    -0.005082\n",
       "8                     nr.employed    -0.008649\n",
       "22                 marital_single    -0.010734\n",
       "14                    job_retired    -0.021811\n",
       "18                 job_technician    -0.029461\n",
       "24             education_basic.6y    -0.032963\n",
       "44                      month_oct    -0.040478\n",
       "31                default_unknown    -0.047823\n",
       "33                    housing_yes    -0.047823\n",
       "17                    job_student    -0.051208\n",
       "1                        campaign    -0.069776\n",
       "12                  job_housemaid    -0.070792\n",
       "29    education_university.degree    -0.089719\n",
       "46                day_of_week_mon    -0.090932\n",
       "11               job_entrepreneur    -0.112673\n",
       "47                day_of_week_thu    -0.118338\n",
       "7                       euribor3m    -0.122239\n",
       "4                    emp.var.rate    -0.160491\n",
       "15              job_self-employed    -0.192471\n",
       "35                       loan_yes    -0.261979\n",
       "20                    job_unknown    -0.283926\n",
       "30              education_unknown    -0.286908\n",
       "42                      month_may    -0.323313\n",
       "3                        previous    -0.338202\n",
       "9                               y    -0.339902\n",
       "41                      month_mar    -0.618393\n",
       "51               poutcome_success          NaN"
      ]
     },
     "execution_count": 62,
     "metadata": {},
     "output_type": "execute_result"
    }
   ],
   "source": [
    "## Significance of Features according to descending order....We find many negatively correlated features..\n",
    "\n",
    "coeff_df = pd.DataFrame(df_sampled.columns)\n",
    "coeff_df.columns = ['Feature']\n",
    "coeff_df[\"Correlation\"] = pd.Series(logreg.coef_[0])\n",
    "pd.Series(logreg.coef_[0])\n",
    "\n",
    "coeff_df.sort_values(by='Correlation', ascending=False)"
   ]
  },
  {
   "cell_type": "markdown",
   "metadata": {},
   "source": [
    "## d.    What is Cohen’s Kappa Value and what inference do you make from the model"
   ]
  },
  {
   "cell_type": "code",
   "execution_count": 63,
   "metadata": {},
   "outputs": [
    {
     "data": {
      "text/plain": [
       "0.5101268037029288"
      ]
     },
     "execution_count": 63,
     "metadata": {},
     "output_type": "execute_result"
    }
   ],
   "source": [
    "from sklearn.metrics import cohen_kappa_score\n",
    "cohen_kappa_score(y_test,log_predicted)\n",
    "\n",
    "## We can see an acceptable value, generally values above 0.8 is preferred.."
   ]
  },
  {
   "cell_type": "markdown",
   "metadata": {},
   "source": [
    "## e.    Which other key model output parameters do you want to look at? "
   ]
  },
  {
   "cell_type": "code",
   "execution_count": 64,
   "metadata": {},
   "outputs": [
    {
     "name": "stdout",
     "output_type": "stream",
     "text": [
      "Confusion Matrix: \n",
      " [[462  91]\n",
      " [173 356]]\n"
     ]
    },
    {
     "data": {
      "text/plain": [
       "<matplotlib.axes._subplots.AxesSubplot at 0x105944e0>"
      ]
     },
     "execution_count": 64,
     "metadata": {},
     "output_type": "execute_result"
    },
    {
     "data": {
      "image/png": "[encoded data removed]",
      "text/plain": [
       "<Figure size 432x288 with 2 Axes>"
      ]
     },
     "metadata": {
      "needs_background": "light"
     },
     "output_type": "display_data"
    }
   ],
   "source": [
    "print('Confusion Matrix: \\n', confusion_matrix(y_test,log_predicted))\n",
    "\n",
    "sns.heatmap(confusion_matrix(y_test,log_predicted),annot=True,fmt=\"d\")"
   ]
  },
  {
   "cell_type": "markdown",
   "metadata": {},
   "source": [
    "## 7. How do you improve the accuracy of the model? Write clearly the changes that you will make before re-fitting the model. Fit the final model.\n",
    "#     Please feel free to have any number of iterations to get to the final answer. Marks are awarded based on the quality of final model you are able to achieve. \n"
   ]
  },
  {
   "cell_type": "markdown",
   "metadata": {},
   "source": [
    "## 1) RANDOM FOREST :-"
   ]
  },
  {
   "cell_type": "code",
   "execution_count": 65,
   "metadata": {},
   "outputs": [],
   "source": [
    "from sklearn.linear_model import LogisticRegression\n",
    "from sklearn.svm import SVC, LinearSVC\n",
    "from sklearn.ensemble import RandomForestClassifier, AdaBoostClassifier, BaggingClassifier\n",
    "from sklearn.neighbors import KNeighborsClassifier\n",
    "from sklearn.naive_bayes import GaussianNB\n",
    "from sklearn.linear_model import Perceptron\n",
    "from sklearn.linear_model import SGDClassifier\n",
    "from sklearn.tree import DecisionTreeClassifier\n"
   ]
  },
  {
   "cell_type": "code",
   "execution_count": 66,
   "metadata": {},
   "outputs": [
    {
     "name": "stdout",
     "output_type": "stream",
     "text": [
      "Random Forest Score: \n",
      " 100.0\n",
      "Random Forest Test Score: \n",
      " 97.5\n",
      "Accuracy: \n",
      " 0.9750462107208873\n",
      "[[526  27]\n",
      " [  0 529]]\n",
      "              precision    recall  f1-score   support\n",
      "\n",
      "           0       1.00      0.95      0.97       553\n",
      "           1       0.95      1.00      0.98       529\n",
      "\n",
      "    accuracy                           0.98      1082\n",
      "   macro avg       0.98      0.98      0.98      1082\n",
      "weighted avg       0.98      0.98      0.98      1082\n",
      "\n"
     ]
    },
    {
     "data": {
      "text/plain": [
       "<matplotlib.axes._subplots.AxesSubplot at 0x1082e9b0>"
      ]
     },
     "execution_count": 66,
     "metadata": {},
     "output_type": "execute_result"
    },
    {
     "data": {
      "image/png": "[encoded data removed]",
      "text/plain": [
       "<Figure size 432x288 with 2 Axes>"
      ]
     },
     "metadata": {
      "needs_background": "light"
     },
     "output_type": "display_data"
    }
   ],
   "source": [
    "random_forest = RandomForestClassifier(n_estimators=100)\n",
    "random_forest.fit(X_train, y_train)\n",
    "#Predict Output\n",
    "rf_predicted = random_forest.predict(X_test)\n",
    "\n",
    "random_forest_score = round(random_forest.score(X_train, y_train) * 100, 2)\n",
    "random_forest_score_test = round(random_forest.score(X_test, y_test) * 100, 2)\n",
    "print('Random Forest Score: \\n', random_forest_score)\n",
    "print('Random Forest Test Score: \\n', random_forest_score_test)\n",
    "print('Accuracy: \\n', accuracy_score(y_test,rf_predicted))\n",
    "print(confusion_matrix(y_test,rf_predicted))\n",
    "print(classification_report(y_test,rf_predicted))\n",
    "\n",
    "sns.heatmap(confusion_matrix(y_test,rf_predicted),annot=True,fmt=\"d\")"
   ]
  },
  {
   "cell_type": "markdown",
   "metadata": {},
   "source": [
    "## WE CAN SEE HERE THAT RANDOM FOREST, has a test score of 97.23% with an overall Accuracy score= 97.227% which can be accepted as a very good Score."
   ]
  },
  {
   "cell_type": "markdown",
   "metadata": {},
   "source": [
    "## Applying Gaussian Naive-Bayes Model:- "
   ]
  },
  {
   "cell_type": "code",
   "execution_count": 67,
   "metadata": {},
   "outputs": [
    {
     "name": "stdout",
     "output_type": "stream",
     "text": [
      "Gaussian Score: \n",
      " 74.03\n",
      "Gaussian Test Score: \n",
      " 73.94\n",
      "Accuracy: \n",
      " 0.7393715341959335\n",
      "[[479  74]\n",
      " [208 321]]\n",
      "              precision    recall  f1-score   support\n",
      "\n",
      "           0       0.70      0.87      0.77       553\n",
      "           1       0.81      0.61      0.69       529\n",
      "\n",
      "    accuracy                           0.74      1082\n",
      "   macro avg       0.75      0.74      0.73      1082\n",
      "weighted avg       0.75      0.74      0.73      1082\n",
      "\n"
     ]
    },
    {
     "data": {
      "text/plain": [
       "<matplotlib.axes._subplots.AxesSubplot at 0x118a8630>"
      ]
     },
     "execution_count": 67,
     "metadata": {},
     "output_type": "execute_result"
    },
    {
     "data": {
      "image/png": "[encoded data removed]",
      "text/plain": [
       "<Figure size 432x288 with 2 Axes>"
      ]
     },
     "metadata": {
      "needs_background": "light"
     },
     "output_type": "display_data"
    }
   ],
   "source": [
    "gaussian = GaussianNB()\n",
    "gaussian.fit(X_train, y_train)\n",
    "#Predict Output\n",
    "gauss_predicted = gaussian.predict(X_test)\n",
    "\n",
    "gauss_score = round(gaussian.score(X_train, y_train) * 100, 2)\n",
    "gauss_score_test = round(gaussian.score(X_test, y_test) * 100, 2)\n",
    "print('Gaussian Score: \\n', gauss_score)\n",
    "print('Gaussian Test Score: \\n', gauss_score_test)\n",
    "print('Accuracy: \\n', accuracy_score(y_test, gauss_predicted))\n",
    "print(confusion_matrix(y_test,gauss_predicted))\n",
    "print(classification_report(y_test,gauss_predicted))\n",
    "\n",
    "sns.heatmap(confusion_matrix(y_test,gauss_predicted),annot=True,fmt=\"d\")"
   ]
  },
  {
   "cell_type": "markdown",
   "metadata": {},
   "source": [
    "## Naive-Bayes gives us lesser accuracy=73.93%  than both Random Forest(97%) as well as the Base Model(76%)"
   ]
  },
  {
   "cell_type": "markdown",
   "metadata": {},
   "source": [
    "# Applying Decision Tree(entropy) :-"
   ]
  },
  {
   "cell_type": "code",
   "execution_count": 68,
   "metadata": {},
   "outputs": [
    {
     "name": "stdout",
     "output_type": "stream",
     "text": [
      "DecisionTree Score: \n",
      " 77.08\n",
      "DecisionTree Test Score: \n",
      " 78.28\n",
      "Accuracy: \n",
      " 0.7828096118299446\n",
      "[[490  63]\n",
      " [172 357]]\n",
      "              precision    recall  f1-score   support\n",
      "\n",
      "           0       0.74      0.89      0.81       553\n",
      "           1       0.85      0.67      0.75       529\n",
      "\n",
      "    accuracy                           0.78      1082\n",
      "   macro avg       0.80      0.78      0.78      1082\n",
      "weighted avg       0.79      0.78      0.78      1082\n",
      "\n"
     ]
    },
    {
     "data": {
      "text/plain": [
       "<matplotlib.axes._subplots.AxesSubplot at 0x104d9e80>"
      ]
     },
     "execution_count": 68,
     "metadata": {},
     "output_type": "execute_result"
    },
    {
     "data": {
      "image/png": "[encoded data removed]",
      "text/plain": [
       "<Figure size 432x288 with 2 Axes>"
      ]
     },
     "metadata": {
      "needs_background": "light"
     },
     "output_type": "display_data"
    }
   ],
   "source": [
    "Dec_tree = DecisionTreeClassifier(criterion='entropy',random_state = 100,max_depth=3, min_samples_leaf=5)\n",
    "Dec_tree.fit(X_train, y_train)\n",
    "#Predict Output\n",
    "Dec_tree_predicted = Dec_tree.predict(X_test)\n",
    "\n",
    "Dec_tree_score = round(Dec_tree.score(X_train, y_train) * 100, 2)\n",
    "Dec_tree_score_test = round(Dec_tree.score(X_test, y_test) * 100, 2)\n",
    "print('DecisionTree Score: \\n', Dec_tree_score)\n",
    "print('DecisionTree Test Score: \\n', Dec_tree_score_test)\n",
    "print('Accuracy: \\n', accuracy_score(y_test, Dec_tree_predicted))\n",
    "print(confusion_matrix(y_test,Dec_tree_predicted))\n",
    "print(classification_report(y_test,Dec_tree_predicted))\n",
    "\n",
    "sns.heatmap(confusion_matrix(y_test,Dec_tree_predicted),annot=True,fmt=\"d\")"
   ]
  },
  {
   "cell_type": "markdown",
   "metadata": {},
   "source": [
    "## So we can see that Decision Tree Claissifier(entropy) when applied improves the Model Scores \n",
    "## DTree score is better than both LR MODEL AND NAIVE-BAYES Models, but RF Model is still giving us the best Scores.."
   ]
  },
  {
   "cell_type": "markdown",
   "metadata": {},
   "source": [
    "## Decision Tree (Gini) :-"
   ]
  },
  {
   "cell_type": "code",
   "execution_count": 69,
   "metadata": {},
   "outputs": [
    {
     "name": "stdout",
     "output_type": "stream",
     "text": [
      "DecisionTree Score: \n",
      " 76.72\n",
      "DecisionTree Test Score: \n",
      " 77.91\n",
      "Accuracy: \n",
      " 0.7791127541589649\n",
      "[[485  68]\n",
      " [171 358]]\n",
      "              precision    recall  f1-score   support\n",
      "\n",
      "           0       0.74      0.88      0.80       553\n",
      "           1       0.84      0.68      0.75       529\n",
      "\n",
      "    accuracy                           0.78      1082\n",
      "   macro avg       0.79      0.78      0.78      1082\n",
      "weighted avg       0.79      0.78      0.78      1082\n",
      "\n"
     ]
    },
    {
     "data": {
      "text/plain": [
       "<matplotlib.axes._subplots.AxesSubplot at 0x119d04e0>"
      ]
     },
     "execution_count": 69,
     "metadata": {},
     "output_type": "execute_result"
    },
    {
     "data": {
      "image/png": "[encoded data removed]",
      "text/plain": [
       "<Figure size 432x288 with 2 Axes>"
      ]
     },
     "metadata": {
      "needs_background": "light"
     },
     "output_type": "display_data"
    }
   ],
   "source": [
    "Dec_tree = DecisionTreeClassifier(criterion='gini',random_state = 100,max_depth=3, min_samples_leaf=5)\n",
    "Dec_tree.fit(X_train, y_train)\n",
    "#Predict Output\n",
    "Dec_tree_predicted = Dec_tree.predict(X_test)\n",
    "\n",
    "Dec_tree_score = round(Dec_tree.score(X_train, y_train) * 100, 2)\n",
    "Dec_tree_score_test = round(Dec_tree.score(X_test, y_test) * 100, 2)\n",
    "print('DecisionTree Score: \\n', Dec_tree_score)\n",
    "print('DecisionTree Test Score: \\n', Dec_tree_score_test)\n",
    "print('Accuracy: \\n', accuracy_score(y_test, Dec_tree_predicted))\n",
    "print(confusion_matrix(y_test,Dec_tree_predicted))\n",
    "print(classification_report(y_test,Dec_tree_predicted))\n",
    "\n",
    "sns.heatmap(confusion_matrix(y_test,Dec_tree_predicted),annot=True,fmt=\"d\")"
   ]
  },
  {
   "cell_type": "code",
   "execution_count": 70,
   "metadata": {},
   "outputs": [],
   "source": [
    "## Criterion= entropy is giving better results....."
   ]
  },
  {
   "cell_type": "markdown",
   "metadata": {},
   "source": [
    "## Trying out KNN AND checking if it gives us better ACCURACY Scores :- "
   ]
  },
  {
   "cell_type": "code",
   "execution_count": 71,
   "metadata": {},
   "outputs": [
    {
     "name": "stdout",
     "output_type": "stream",
     "text": [
      "KNN Score: \n",
      " 91.48\n",
      "KNN Test Score: \n",
      " 86.04\n",
      "Accuracy: \n",
      " 0.8604436229205176\n",
      "[[418 135]\n",
      " [ 16 513]]\n",
      "              precision    recall  f1-score   support\n",
      "\n",
      "           0       0.96      0.76      0.85       553\n",
      "           1       0.79      0.97      0.87       529\n",
      "\n",
      "    accuracy                           0.86      1082\n",
      "   macro avg       0.88      0.86      0.86      1082\n",
      "weighted avg       0.88      0.86      0.86      1082\n",
      "\n"
     ]
    },
    {
     "data": {
      "text/plain": [
       "<matplotlib.axes._subplots.AxesSubplot at 0x11a641d0>"
      ]
     },
     "execution_count": 71,
     "metadata": {},
     "output_type": "execute_result"
    },
    {
     "data": {
      "image/png": "[encoded data removed]",
      "text/plain": [
       "<Figure size 432x288 with 2 Axes>"
      ]
     },
     "metadata": {
      "needs_background": "light"
     },
     "output_type": "display_data"
    }
   ],
   "source": [
    "knn = KNeighborsClassifier()\n",
    "knn.fit(X_train, y_train)\n",
    "knn_predicted = knn.predict(X_test)\n",
    "\n",
    "knn_score = round(knn.score(X_train, y_train) * 100, 2)\n",
    "knn_score_test = round(knn.score(X_test, y_test) * 100, 2)\n",
    "print('KNN Score: \\n', knn_score)\n",
    "print('KNN Test Score: \\n', knn_score_test)\n",
    "print('Accuracy: \\n', accuracy_score(y_test, knn_predicted))\n",
    "print(confusion_matrix(y_test,knn_predicted))\n",
    "print(classification_report(y_test,knn_predicted))\n",
    "\n",
    "sns.heatmap(confusion_matrix(y_test,knn_predicted),annot=True,fmt=\"d\")"
   ]
  },
  {
   "cell_type": "markdown",
   "metadata": {},
   "source": [
    "## KNN performed much better than other models...But still RANDOM FOREST CLASSIFIER has given us the best Scores of Accuracy..."
   ]
  },
  {
   "cell_type": "markdown",
   "metadata": {},
   "source": [
    "\n",
    "\n",
    "## Now we may Scale the model because all the above algorithms use Distance Based calculations, so Scaling the Data may significantly improve the Moddel Scores...."
   ]
  },
  {
   "cell_type": "code",
   "execution_count": 72,
   "metadata": {},
   "outputs": [],
   "source": [
    "## SCALING - USING STANDARD SCALER METHOD...\n",
    "\n",
    "\n",
    "from sklearn.preprocessing import StandardScaler\n",
    "sc = StandardScaler()\n",
    "X_train = sc.fit_transform(X_train)\n",
    "X_test = sc.transform(X_test)"
   ]
  },
  {
   "cell_type": "code",
   "execution_count": 73,
   "metadata": {},
   "outputs": [
    {
     "name": "stdout",
     "output_type": "stream",
     "text": [
      "Logistic Regression Training Score: \n",
      " 77.95\n",
      "Logistic Regression Test Score: \n",
      " 77.54\n",
      "Coefficient: \n",
      " [[ 0.02419128 -0.30328223  0.69285872 -0.25144599 -2.48641342  0.92700391\n",
      "  -0.01390692  1.20566725 -0.11140709 -0.45176903  0.03967603 -0.53405764\n",
      "  -0.14376454 -0.03951624 -0.06642435 -0.32038062  0.05550108 -0.31410158\n",
      "  -0.14713364 -0.01883282 -0.03527289  0.04377324 -0.21881702  0.21433456\n",
      "   0.24498412  0.16466739  0.          0.24972614 -0.01924454 -0.17069888\n",
      "  -0.12269001 -0.01719567  0.087484   -0.01719567  0.06718555 -0.31583109\n",
      "   0.15291959  0.1082409   0.05967078 -0.15444588  0.33285358 -0.22261026\n",
      "  -0.56721838  0.13005371 -0.14014339  0.09142593 -0.05695321 -0.09809311\n",
      "   0.11681636  0.02025648  1.67008772]]\n",
      "Intercept: \n",
      " [0.15540167]\n",
      "Accuracy: \n",
      " 0.7754158964879853\n",
      "Confusion Matrix: \n",
      " [[456  97]\n",
      " [146 383]]\n",
      "Classification Report: \n",
      "               precision    recall  f1-score   support\n",
      "\n",
      "           0       0.76      0.82      0.79       553\n",
      "           1       0.80      0.72      0.76       529\n",
      "\n",
      "    accuracy                           0.78      1082\n",
      "   macro avg       0.78      0.77      0.77      1082\n",
      "weighted avg       0.78      0.78      0.77      1082\n",
      "\n"
     ]
    },
    {
     "data": {
      "text/plain": [
       "<matplotlib.axes._subplots.AxesSubplot at 0x11b05048>"
      ]
     },
     "execution_count": 73,
     "metadata": {},
     "output_type": "execute_result"
    },
    {
     "data": {
      "image/png": "[encoded data removed]",
      "text/plain": [
       "<Figure size 432x288 with 2 Axes>"
      ]
     },
     "metadata": {
      "needs_background": "light"
     },
     "output_type": "display_data"
    }
   ],
   "source": [
    "## Applying on Logistic Regression\n",
    "## Create logistic regression object\n",
    "logreg = LogisticRegression()\n",
    "# Train the model using the training sets and check score\n",
    "logreg.fit(X_train, y_train)\n",
    "#Predict Output\n",
    "log_predicted_std= logreg.predict(X_test)\n",
    "\n",
    "logreg_score_std = round(logreg.score(X_train, y_train) * 100, 2)\n",
    "logreg_score_test_std = round(logreg.score(X_test, y_test) * 100, 2)\n",
    "#Equation coefficient and Intercept\n",
    "print('Logistic Regression Training Score: \\n', logreg_score_std)\n",
    "print('Logistic Regression Test Score: \\n', logreg_score_test_std)\n",
    "print('Coefficient: \\n', logreg.coef_)\n",
    "print('Intercept: \\n', logreg.intercept_)\n",
    "print('Accuracy: \\n', accuracy_score(y_test,log_predicted_std))\n",
    "print('Confusion Matrix: \\n', confusion_matrix(y_test,log_predicted_std))\n",
    "print('Classification Report: \\n', classification_report(y_test,log_predicted_std))\n",
    "\n",
    "sns.heatmap(confusion_matrix(y_test,log_predicted_std),annot=True,fmt=\"d\")"
   ]
  },
  {
   "cell_type": "code",
   "execution_count": 74,
   "metadata": {},
   "outputs": [],
   "source": [
    "## Scaling improved Accuracy score from 76.34% to 77.54 %"
   ]
  },
  {
   "cell_type": "code",
   "execution_count": 75,
   "metadata": {},
   "outputs": [
    {
     "name": "stdout",
     "output_type": "stream",
     "text": [
      "Random Forest Score: \n",
      " 100.0\n",
      "Random Forest Test Score: \n",
      " 97.41\n",
      "Accuracy: \n",
      " 0.9741219963031423\n",
      "[[525  28]\n",
      " [  0 529]]\n",
      "              precision    recall  f1-score   support\n",
      "\n",
      "           0       1.00      0.95      0.97       553\n",
      "           1       0.95      1.00      0.97       529\n",
      "\n",
      "    accuracy                           0.97      1082\n",
      "   macro avg       0.97      0.97      0.97      1082\n",
      "weighted avg       0.98      0.97      0.97      1082\n",
      "\n"
     ]
    },
    {
     "data": {
      "text/plain": [
       "<matplotlib.axes._subplots.AxesSubplot at 0x10835780>"
      ]
     },
     "execution_count": 75,
     "metadata": {},
     "output_type": "execute_result"
    },
    {
     "data": {
      "image/png": "[encoded data removed]",
      "text/plain": [
       "<Figure size 432x288 with 2 Axes>"
      ]
     },
     "metadata": {
      "needs_background": "light"
     },
     "output_type": "display_data"
    }
   ],
   "source": [
    "## Applying on Random Forest:-\n",
    "\n",
    "random_forest = RandomForestClassifier(n_estimators=100)\n",
    "random_forest.fit(X_train, y_train)\n",
    "#Predict Output\n",
    "rf_predicted_std = random_forest.predict(X_test)\n",
    "\n",
    "random_forest_score_std = round(random_forest.score(X_train, y_train) * 100, 2)\n",
    "random_forest_score_test_std = round(random_forest.score(X_test, y_test) * 100, 2)\n",
    "print('Random Forest Score: \\n', random_forest_score_std)\n",
    "print('Random Forest Test Score: \\n', random_forest_score_test_std)\n",
    "print('Accuracy: \\n', accuracy_score(y_test,rf_predicted_std))\n",
    "print(confusion_matrix(y_test,rf_predicted_std))\n",
    "print(classification_report(y_test,rf_predicted_std))\n",
    "\n",
    "sns.heatmap(confusion_matrix(y_test,rf_predicted_std),annot=True,fmt=\"d\")"
   ]
  },
  {
   "cell_type": "code",
   "execution_count": 76,
   "metadata": {},
   "outputs": [],
   "source": [
    "## Random Forest performs almost similarly, which is still the Best Scores.. "
   ]
  },
  {
   "cell_type": "code",
   "execution_count": 77,
   "metadata": {},
   "outputs": [
    {
     "name": "stdout",
     "output_type": "stream",
     "text": [
      "Gaussian Score: \n",
      " 70.82\n",
      "Gaussian Test Score: \n",
      " 69.22\n",
      "Accuracy: \n",
      " 0.6922365988909427\n",
      "[[299 254]\n",
      " [ 79 450]]\n",
      "              precision    recall  f1-score   support\n",
      "\n",
      "           0       0.79      0.54      0.64       553\n",
      "           1       0.64      0.85      0.73       529\n",
      "\n",
      "    accuracy                           0.69      1082\n",
      "   macro avg       0.72      0.70      0.69      1082\n",
      "weighted avg       0.72      0.69      0.69      1082\n",
      "\n"
     ]
    },
    {
     "data": {
      "text/plain": [
       "<matplotlib.axes._subplots.AxesSubplot at 0x11c000b8>"
      ]
     },
     "execution_count": 77,
     "metadata": {},
     "output_type": "execute_result"
    },
    {
     "data": {
      "image/png": "[encoded data removed]",
      "text/plain": [
       "<Figure size 432x288 with 2 Axes>"
      ]
     },
     "metadata": {
      "needs_background": "light"
     },
     "output_type": "display_data"
    }
   ],
   "source": [
    "## Applying Naive-Bayes :- \n",
    "\n",
    "gaussian = GaussianNB()\n",
    "gaussian.fit(X_train, y_train)\n",
    "#Predict Output\n",
    "gauss_predicted_std = gaussian.predict(X_test)\n",
    "\n",
    "gauss_score_std = round(gaussian.score(X_train, y_train) * 100, 2)\n",
    "gauss_score_test_std = round(gaussian.score(X_test, y_test) * 100, 2)\n",
    "print('Gaussian Score: \\n', gauss_score_std)\n",
    "print('Gaussian Test Score: \\n', gauss_score_test_std)\n",
    "print('Accuracy: \\n', accuracy_score(y_test, gauss_predicted_std))\n",
    "print(confusion_matrix(y_test,gauss_predicted_std))\n",
    "print(classification_report(y_test,gauss_predicted_std))\n",
    "\n",
    "sns.heatmap(confusion_matrix(y_test,gauss_predicted_std),annot=True,fmt=\"d\")"
   ]
  },
  {
   "cell_type": "code",
   "execution_count": 78,
   "metadata": {},
   "outputs": [],
   "source": [
    "## Model performance has decreased instead......"
   ]
  },
  {
   "cell_type": "code",
   "execution_count": 79,
   "metadata": {},
   "outputs": [
    {
     "name": "stdout",
     "output_type": "stream",
     "text": [
      "DecisionTree Score: \n",
      " 77.08\n",
      "DecisionTree Test Score: \n",
      " 78.28\n",
      "Accuracy: \n",
      " 0.7828096118299446\n",
      "[[490  63]\n",
      " [172 357]]\n",
      "              precision    recall  f1-score   support\n",
      "\n",
      "           0       0.74      0.89      0.81       553\n",
      "           1       0.85      0.67      0.75       529\n",
      "\n",
      "    accuracy                           0.78      1082\n",
      "   macro avg       0.80      0.78      0.78      1082\n",
      "weighted avg       0.79      0.78      0.78      1082\n",
      "\n"
     ]
    },
    {
     "data": {
      "text/plain": [
       "<matplotlib.axes._subplots.AxesSubplot at 0x11caa160>"
      ]
     },
     "execution_count": 79,
     "metadata": {},
     "output_type": "execute_result"
    },
    {
     "data": {
      "image/png": "[encoded data removed]",
      "text/plain": [
       "<Figure size 432x288 with 2 Axes>"
      ]
     },
     "metadata": {
      "needs_background": "light"
     },
     "output_type": "display_data"
    }
   ],
   "source": [
    "## Applying Decision tree(Entropy) :-\n",
    "\n",
    "Dec_tree = DecisionTreeClassifier(criterion='entropy',random_state = 100,max_depth=3, min_samples_leaf=5)\n",
    "Dec_tree.fit(X_train, y_train)\n",
    "#Predict Output\n",
    "Dec_tree_predicted_std = Dec_tree.predict(X_test)\n",
    "\n",
    "Dec_tree_score_std = round(Dec_tree.score(X_train, y_train) * 100, 2)\n",
    "Dec_tree_score_test_std = round(Dec_tree.score(X_test, y_test) * 100, 2)\n",
    "print('DecisionTree Score: \\n', Dec_tree_score_std)\n",
    "print('DecisionTree Test Score: \\n', Dec_tree_score_test_std)\n",
    "print('Accuracy: \\n', accuracy_score(y_test, Dec_tree_predicted_std))\n",
    "print(confusion_matrix(y_test,Dec_tree_predicted_std))\n",
    "print(classification_report(y_test,Dec_tree_predicted_std))\n",
    "\n",
    "sns.heatmap(confusion_matrix(y_test,Dec_tree_predicted_std),annot=True,fmt=\"d\")\n"
   ]
  },
  {
   "cell_type": "code",
   "execution_count": 80,
   "metadata": {},
   "outputs": [],
   "source": [
    "## Similar performance, 78.28%.."
   ]
  },
  {
   "cell_type": "code",
   "execution_count": 81,
   "metadata": {},
   "outputs": [
    {
     "name": "stdout",
     "output_type": "stream",
     "text": [
      "DecisionTree Score: \n",
      " 76.72\n",
      "DecisionTree Test Score: \n",
      " 77.91\n",
      "Accuracy: \n",
      " 0.7791127541589649\n",
      "[[485  68]\n",
      " [171 358]]\n",
      "              precision    recall  f1-score   support\n",
      "\n",
      "           0       0.74      0.88      0.80       553\n",
      "           1       0.84      0.68      0.75       529\n",
      "\n",
      "    accuracy                           0.78      1082\n",
      "   macro avg       0.79      0.78      0.78      1082\n",
      "weighted avg       0.79      0.78      0.78      1082\n",
      "\n"
     ]
    },
    {
     "data": {
      "text/plain": [
       "<matplotlib.axes._subplots.AxesSubplot at 0x11d44898>"
      ]
     },
     "execution_count": 81,
     "metadata": {},
     "output_type": "execute_result"
    },
    {
     "data": {
      "image/png": "[encoded data removed]",
      "text/plain": [
       "<Figure size 432x288 with 2 Axes>"
      ]
     },
     "metadata": {
      "needs_background": "light"
     },
     "output_type": "display_data"
    }
   ],
   "source": [
    "## Applying Decision Tree (GINI INDEX) :-\n",
    "\n",
    "Dec_tree = DecisionTreeClassifier(criterion='gini',random_state = 100,max_depth=3, min_samples_leaf=5)\n",
    "Dec_tree.fit(X_train, y_train)\n",
    "#Predict Output\n",
    "Dec_tree_predicted_std = Dec_tree.predict(X_test)\n",
    "\n",
    "Dec_tree_score_std = round(Dec_tree.score(X_train, y_train) * 100, 2)\n",
    "Dec_tree_score_test_std = round(Dec_tree.score(X_test, y_test) * 100, 2)\n",
    "print('DecisionTree Score: \\n', Dec_tree_score_std)\n",
    "print('DecisionTree Test Score: \\n', Dec_tree_score_test_std)\n",
    "print('Accuracy: \\n', accuracy_score(y_test, Dec_tree_predicted_std))\n",
    "print(confusion_matrix(y_test,Dec_tree_predicted_std))\n",
    "print(classification_report(y_test,Dec_tree_predicted_std))\n",
    "\n",
    "sns.heatmap(confusion_matrix(y_test,Dec_tree_predicted_std),annot=True,fmt=\"d\")"
   ]
  },
  {
   "cell_type": "markdown",
   "metadata": {},
   "source": [
    "## Hence according to me the Random Forest Model is giving the Best Results for this Dataset...So, I would advice to go ahead with RF."
   ]
  },
  {
   "cell_type": "code",
   "execution_count": 82,
   "metadata": {},
   "outputs": [
    {
     "name": "stdout",
     "output_type": "stream",
     "text": [
      "Accuracy: \n",
      " 0.9722735674676525\n"
     ]
    }
   ],
   "source": [
    "# FINAL MODEL :-\n",
    "\n",
    "random_forest = RandomForestClassifier(n_estimators=100)\n",
    "random_forest.fit(X_train, y_train)\n",
    "#Predict Output\n",
    "rf_predicted = random_forest.predict(X_test)\n",
    "\n",
    "random_forest_score = round(random_forest.score(X_train, y_train) * 100, 2)\n",
    "random_forest_score_test = round(random_forest.score(X_test, y_test) * 100, 2)\n",
    "print('Accuracy: \\n', accuracy_score(y_test,rf_predicted))\n",
    "\n"
   ]
  },
  {
   "cell_type": "markdown",
   "metadata": {},
   "source": [
    "## 8. Summarize as follows\n",
    "#  1.    Summarize the overall fit of the model and list down the measures to prove that it is a good model\n"
   ]
  },
  {
   "cell_type": "code",
   "execution_count": 83,
   "metadata": {},
   "outputs": [
    {
     "data": {
      "text/html": [
       "<div>\n",
       "<style scoped>\n",
       "    .dataframe tbody tr th:only-of-type {\n",
       "        vertical-align: middle;\n",
       "    }\n",
       "\n",
       "    .dataframe tbody tr th {\n",
       "        vertical-align: top;\n",
       "    }\n",
       "\n",
       "    .dataframe thead th {\n",
       "        text-align: right;\n",
       "    }\n",
       "</style>\n",
       "<table border=\"1\" class=\"dataframe\">\n",
       "  <thead>\n",
       "    <tr style=\"text-align: right;\">\n",
       "      <th></th>\n",
       "      <th>Model</th>\n",
       "      <th>Score</th>\n",
       "      <th>Score_Std</th>\n",
       "      <th>Accuracy</th>\n",
       "      <th>Accuracy_Std</th>\n",
       "    </tr>\n",
       "  </thead>\n",
       "  <tbody>\n",
       "    <tr>\n",
       "      <th>2</th>\n",
       "      <td>Random Forest</td>\n",
       "      <td>100.00</td>\n",
       "      <td>100.00</td>\n",
       "      <td>97.23</td>\n",
       "      <td>97.41</td>\n",
       "    </tr>\n",
       "    <tr>\n",
       "      <th>3</th>\n",
       "      <td>Decision Tree</td>\n",
       "      <td>76.72</td>\n",
       "      <td>76.72</td>\n",
       "      <td>77.91</td>\n",
       "      <td>77.91</td>\n",
       "    </tr>\n",
       "    <tr>\n",
       "      <th>0</th>\n",
       "      <td>Logistic Regression</td>\n",
       "      <td>75.89</td>\n",
       "      <td>77.95</td>\n",
       "      <td>75.60</td>\n",
       "      <td>77.54</td>\n",
       "    </tr>\n",
       "    <tr>\n",
       "      <th>1</th>\n",
       "      <td>Gaussian Naive Bayes</td>\n",
       "      <td>74.03</td>\n",
       "      <td>70.82</td>\n",
       "      <td>73.94</td>\n",
       "      <td>69.22</td>\n",
       "    </tr>\n",
       "  </tbody>\n",
       "</table>\n",
       "</div>"
      ],
      "text/plain": [
       "                  Model   Score  Score_Std  Accuracy  Accuracy_Std\n",
       "2         Random Forest  100.00     100.00     97.23         97.41\n",
       "3         Decision Tree   76.72      76.72     77.91         77.91\n",
       "0   Logistic Regression   75.89      77.95     75.60         77.54\n",
       "1  Gaussian Naive Bayes   74.03      70.82     73.94         69.22"
      ]
     },
     "execution_count": 83,
     "metadata": {},
     "output_type": "execute_result"
    }
   ],
   "source": [
    "models = pd.DataFrame({\n",
    "    'Model': [ 'Logistic Regression', 'Gaussian Naive Bayes','Random Forest','Decision Tree'],\n",
    "    'Score': [ logreg_score, gauss_score, random_forest_score,Dec_tree_score],\n",
    "    'Score_Std': [ logreg_score_std, gauss_score_std, random_forest_score_std,Dec_tree_score_std],\n",
    "    'Accuracy': [ logreg_score_test, gauss_score_test, random_forest_score_test,Dec_tree_score_test],\n",
    "    'Accuracy_Std':[ logreg_score_test_std, gauss_score_test_std, random_forest_score_test_std,Dec_tree_score_test_std]})\n",
    "models.sort_values(by='Accuracy', ascending=False)"
   ]
  },
  {
   "cell_type": "markdown",
   "metadata": {},
   "source": [
    "## •From the Table above the Accuracy in RandomForest Model is giving 97.60% Accuracy\n",
    "## •Even the Test Score and Train Score are having Small difference \n",
    "## •The Model Peformance is good ie.. Correct Classification of Outcome vaiable..\n"
   ]
  },
  {
   "cell_type": "markdown",
   "metadata": {},
   "source": []
  },
  {
   "cell_type": "code",
   "execution_count": null,
   "metadata": {},
   "outputs": [],
   "source": [
    " \n",
    "\n"
   ]
  },
  {
   "cell_type": "code",
   "execution_count": null,
   "metadata": {},
   "outputs": [],
   "source": []
  }
 ],
 "metadata": {
  "kernelspec": {
   "display_name": "Python 3",
   "language": "python",
   "name": "python3"
  },
  "language_info": {
   "codemirror_mode": {
    "name": "ipython",
    "version": 3
   },
   "file_extension": ".py",
   "mimetype": "text/x-python",
   "name": "python",
   "nbconvert_exporter": "python",
   "pygments_lexer": "ipython3",
   "version": "3.7.3"
  }
 },
 "nbformat": 4,
 "nbformat_minor": 2
}
